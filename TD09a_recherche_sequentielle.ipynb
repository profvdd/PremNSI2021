{
 "cells": [
  {
   "cell_type": "markdown",
   "metadata": {},
   "source": [
    "# TD9a Recherche séquentielle d'une valeur dans une liste"
   ]
  },
  {
   "cell_type": "markdown",
   "metadata": {},
   "source": [
    "## 1. Rappel du cours\n",
    "\n",
    "Nous avons déjà vu en cours ce problème. \n",
    "\n",
    "La recherche séquentielle est une façon simple de chercher une valeur en parcourant un à un les éléments de la liste et en comparant cette valeur à chaque élément.\n",
    "\n",
    "**Rappel de l'algo :**\n"
   ]
  },
  {
   "cell_type": "code",
   "execution_count": null,
   "metadata": {},
   "outputs": [],
   "source": [
    "def chercher(liste,valeur):\n",
    "    for element in liste :\n",
    "        if element == valeur:\n",
    "            return True\n",
    "    return False"
   ]
  },
  {
   "cell_type": "markdown",
   "metadata": {},
   "source": [
    "Faire plusieurs essais pour le code suivant :  "
   ]
  },
  {
   "cell_type": "code",
   "execution_count": null,
   "metadata": {},
   "outputs": [],
   "source": [
    "from random import randint\n",
    "tableau = [randint(1,10) for i in range(8)]\n",
    "print(tableau)\n",
    "chercher(tableau,5)"
   ]
  },
  {
   "cell_type": "markdown",
   "metadata": {},
   "source": [
    "## 2. Complexité en temps\n",
    "\n",
    "Pour évaluer le coût en temps, il faut compter le nombre de comparaisons effectuées. La fonction `chercher`impliquant une seule boucle `for`, le coût est en temps est linéaire `O(n)`. \n",
    "\n",
    "Au pire des cas, si la valeur cherchée est en dernière position ou si elle n'est pas dans la liste, il sera nécessaire de parcourir tout le tableau donc d'effectuer `n` comparaisons (avec `n` le nombre d'éléments de la liste).\n",
    "\n",
    "$\\fbox{Le temps de calcul est donc proportionnel à la longueur de la liste cad en O(n).}$"
   ]
  },
  {
   "cell_type": "markdown",
   "metadata": {},
   "source": [
    "## 2. Estimation du temps de calcul\n",
    "Observer le temps de calcul de la fonction précédente en prenant plusieurs valeurs pour `n` entre 1000 et 1000000 :"
   ]
  },
  {
   "cell_type": "code",
   "execution_count": null,
   "metadata": {},
   "outputs": [],
   "source": [
    "from time import *\n",
    "n = 1000000\n",
    "tableau = [randint(1,2*n) for i in range(n)]\n",
    "debut = time()\n",
    "chercher(tableau,11)\n",
    "fin = time()\n",
    "print(\"temps de calcul : \",fin-debut)"
   ]
  },
  {
   "cell_type": "markdown",
   "metadata": {},
   "source": [
    "Construction de la courbe du temps de calcul en fonction de la longeur de la liste :"
   ]
  },
  {
   "cell_type": "code",
   "execution_count": null,
   "metadata": {},
   "outputs": [],
   "source": [
    "import numpy as np\n",
    "import matplotlib.pyplot as plt\n",
    "n=[]\n",
    "temps = []\n",
    "for longueur in range(10000, 100000, 10000):\n",
    "    n.append(longueur)\n",
    "    tableau = [randint(1,2*longueur) for i in range(longueur)]\n",
    "    debut = time()\n",
    "    chercher(tableau,11)\n",
    "    fin = time()\n",
    "    temps.append(longueur)\n",
    "\n",
    "plt.scatter(n, temps)\n",
    "plt.xlabel('Longueur de la liste ')\n",
    "plt.ylabel('temps de calcul')\n",
    "plt.axis(ymin=0)\n",
    "plt.title(\"Temps de calcul en fonction du nombre d'éléments dans la liste\")"
   ]
  }
 ],
 "metadata": {
  "kernelspec": {
   "display_name": "Python 3",
   "language": "python",
   "name": "python3"
  },
  "language_info": {
   "codemirror_mode": {
    "name": "ipython",
    "version": 3
   },
   "file_extension": ".py",
   "mimetype": "text/x-python",
   "name": "python",
   "nbconvert_exporter": "python",
   "pygments_lexer": "ipython3",
   "version": "3.7.3"
  }
 },
 "nbformat": 4,
 "nbformat_minor": 2
}
