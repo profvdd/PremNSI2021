{
 "cells": [
  {
   "cell_type": "markdown",
   "metadata": {},
   "source": [
    "<center><h1 style=\"color:#702637\">TP : Encodages de caractères<h1></center>"
   ]
  },
  {
   "cell_type": "markdown",
   "metadata": {},
   "source": [
    "Python est un langage de haut niveau. Ses concepteurs essaient de le rendre le plus proche possible de l'esprit humain.\n",
    "\n",
    "Ainsi on peut écrire :"
   ]
  },
  {
   "cell_type": "code",
   "execution_count": null,
   "metadata": {},
   "outputs": [],
   "source": [
    "'a' < 'b'"
   ]
  },
  {
   "cell_type": "markdown",
   "metadata": {},
   "source": [
    "Cela semble logique : dans l'ordre alphabétique, `a` est bien avant `b`. On peut donc dire que `a` est \"inférieur\" à `b`. "
   ]
  },
  {
   "cell_type": "markdown",
   "metadata": {},
   "source": [
    "Mais dans ce cas que dire de :"
   ]
  },
  {
   "cell_type": "code",
   "execution_count": null,
   "metadata": {},
   "outputs": [],
   "source": [
    "'à' < 'b'"
   ]
  },
  {
   "cell_type": "markdown",
   "metadata": {},
   "source": [
    "Dans l'ordre alphabétique, cela ne colle pas... Comment Python compare-t-il les caractères ?\n",
    "\n",
    "Et surtout comment les caractères et les textes sont-ils codés dans l'ordinateur ?\n",
    "\n",
    "Quelle suite de $0$ et de $1$ permet de coder les caractères `a`, `b` et `à`?"
   ]
  },
  {
   "cell_type": "markdown",
   "metadata": {},
   "source": [
    "## <span style=\"color:#702637; text-decoration:underline;\">I. Le code ASCII :</span>"
   ]
  },
  {
   "cell_type": "markdown",
   "metadata": {},
   "source": [
    "Au début de l'informatique, de nombreuses façon de coder les caractères existaient.\n",
    "\n",
    "Si l'on achetait deux machines de fabriquants différents il était probable que leurs façons de coder les textes soient différente..."
   ]
  },
  {
   "cell_type": "markdown",
   "metadata": {},
   "source": [
    "Au début des années $1960$, l'_Organisation Internationale de Normalisation_ prend le problème en main."
   ]
  },
  {
   "cell_type": "markdown",
   "metadata": {},
   "source": [
    "L'_American Standart Association_ se charge du développement d'une norme ce codage des caractères pour les Etats-Unis.\n",
    "\n",
    "Cette norme est l'**ASCII** pour _American Standard Code for Information Interchange_ et est publiée pour la première fois en $1963$. Elle s'impose au niveau international."
   ]
  },
  {
   "cell_type": "markdown",
   "metadata": {},
   "source": [
    "En ASCII, chaque caractère est codé sur $8$ bits mais en fait le bit de poids fort n'est jamais utilisé. Un caractère occupe donc $7$ bits ce qui fait $2^7 = 128$ caractères possibles :\n",
    "\n",
    "![Table ASCII](ascii.png)"
   ]
  },
  {
   "cell_type": "markdown",
   "metadata": {},
   "source": [
    "On le voit, à chaque caractère est associé un nombre.\n",
    "\n",
    "Ainsi, le `A` est codé par $65$ en décimal ou $41$ en hexadécimal ou $1000001$ en binaire.\n",
    "\n",
    "Le standart est astucieux : le `a` est codé par $97$, il est donc $32$ caractères après le `A`. Leurs codes binaires diffèrent donc peu ($1100001$ pour le `a`)."
   ]
  },
  {
   "cell_type": "markdown",
   "metadata": {},
   "source": [
    "Python connaît cette table. Les fonctions `ord` et `chr` permettent de passer d'un caractère à son code et réciproquement :"
   ]
  },
  {
   "cell_type": "code",
   "execution_count": null,
   "metadata": {},
   "outputs": [],
   "source": [
    "ord('A')"
   ]
  },
  {
   "cell_type": "code",
   "execution_count": null,
   "metadata": {},
   "outputs": [],
   "source": [
    "chr(65)"
   ]
  },
  {
   "cell_type": "markdown",
   "metadata": {},
   "source": [
    "On peut ainsi, très facilement faire du code de César (décalage de la lettre dans l'alphabet) :"
   ]
  },
  {
   "cell_type": "code",
   "execution_count": null,
   "metadata": {},
   "outputs": [],
   "source": [
    "cle = 8\n",
    "\n",
    "texte_clair = \"Hello World\"\n",
    "\n",
    "texte_code = \"\"\n",
    "for lettre in texte_clair :\n",
    "    numero = ord(lettre)\n",
    "    texte_code += chr(numero + cle)\n",
    "\n",
    "print(texte_code)\n",
    "\n",
    "\n",
    "texte_decode = \"\"\n",
    "for lettre in texte_code :\n",
    "    numero = ord(lettre)\n",
    "    texte_decode += chr(numero - cle)\n",
    "\n",
    "print(texte_decode)"
   ]
  },
  {
   "cell_type": "markdown",
   "metadata": {},
   "source": [
    "**Exercice :** Utiliser la remarque concernant les codes ASCII de majuscule et minuscule d'une même lettre pour écrire une fonction `maj_2_min( )` prenant en paramètre une lettre majuscule et renvoyant la lettre minuscule correspondante. "
   ]
  },
  {
   "cell_type": "code",
   "execution_count": null,
   "metadata": {},
   "outputs": [],
   "source": [
    "# Entrer votre code ici"
   ]
  },
  {
   "cell_type": "markdown",
   "metadata": {},
   "source": [
    "L'ASCII a tout de même un (très) gros défaut : il ne code que les caractères américains. Pas d'accents, pas d'idéogrammes chinois, de lettres arabes... Il a donc fallu compléter cela."
   ]
  },
  {
   "cell_type": "markdown",
   "metadata": {},
   "source": [
    "## <span style=\"color:#702637; text-decoration:underline;\">II. La norme ISO-8859-1 :</span>"
   ]
  },
  {
   "cell_type": "markdown",
   "metadata": {},
   "source": [
    "Afin de pallier les manques d'ASCII, de nouvelles tables ont été créées.\n",
    "\n",
    "L'une d'entre elle, la table **ISO-8859-1** a été reconnue comme standart pour internet.\n",
    "\n",
    "Elle complète la table ASCII en utilisant les $8$ bits du codage. On peut donc désomais coder jusqu'à $256$ caractères ce qui est suffisant pour écrire le français (quoique, le &#x153; de &#x153;sophage manque à l'appel...)\n",
    "\n",
    "![ISO-8859-1](iso-8859-1.png)"
   ]
  },
  {
   "cell_type": "markdown",
   "metadata": {},
   "source": [
    "Une étude attentive montre que les $128$ premiers caractères sont les mêmes que dans la table ASCII (retro-compatibilité !)."
   ]
  },
  {
   "cell_type": "markdown",
   "metadata": {},
   "source": [
    "En fait, Python connaît aussi cette norme :"
   ]
  },
  {
   "cell_type": "code",
   "execution_count": null,
   "metadata": {},
   "outputs": [],
   "source": [
    "ord('ÿ')"
   ]
  },
  {
   "cell_type": "code",
   "execution_count": null,
   "metadata": {},
   "outputs": [],
   "source": [
    "chr(254)"
   ]
  },
  {
   "cell_type": "markdown",
   "metadata": {},
   "source": [
    "Cette table permet d'expliquer notre comparaison initiale : on a `à` > `b` car leur numéros de caractères sont $e0_{16} = 224_{10}$ et $62_{16} = 98_{10}$.\n",
    "\n",
    "On a donc de même :"
   ]
  },
  {
   "cell_type": "code",
   "execution_count": null,
   "metadata": {},
   "outputs": [],
   "source": [
    "'à' < 'â' < 'ã'"
   ]
  },
  {
   "cell_type": "markdown",
   "metadata": {},
   "source": [
    "Cette nouvelle table est utilisée pour les textes européens. Elle est même courament appelée `latin1` (elle met en forme l'alphabet latin).\n",
    "\n",
    "Toutefois, on a toujours pas d'idéogrammes, de lettres arabes... Il existe bien des tables adaptées à différentes langues mais aucune commune à toute. Ainsi, si vous échangez avec un camarade en Chine, vous ne pourrez pas utiliser les mêmes tables de caractères..."
   ]
  },
  {
   "cell_type": "markdown",
   "metadata": {},
   "source": [
    "**Python et iso-8859-1** Si nécessaire on peut coder un caractère spécifique en utilisant son point de code. Observer l'exemple ci-dessous utilisant deux techniques différentes,  puis compléter la cellule pour répondre aux deux questions posées (on réutilisera ces deux techniques):\n",
    "affichage du symbole \"plus moins\" :\n"
   ]
  },
  {
   "cell_type": "code",
   "execution_count": null,
   "metadata": {},
   "outputs": [],
   "source": [
    "print('\\u00B1')\n",
    "# ou :\n",
    "print(chr(0x00B1))"
   ]
  },
  {
   "cell_type": "markdown",
   "metadata": {},
   "source": [
    "**Exercice :** \n",
    "- Comment afficher le symbole minuscule \"1/4\" (voir la table 8859-1 donnée sur le slide du cours) :\n",
    "- Comment afficher le symbole de l'euro (Rque : ce symbole n'existe pas dans la table 8859-1, \n",
    "il fait partie des deux autres tables 8859-x gérant l'europe de l'ouest)\n",
    "Trouver le code numérique qui le représente :\n"
   ]
  },
  {
   "cell_type": "code",
   "execution_count": null,
   "metadata": {},
   "outputs": [],
   "source": [
    "# Votre code ici"
   ]
  },
  {
   "cell_type": "markdown",
   "metadata": {},
   "source": [
    "## <span style=\"color:#702637; text-decoration:underline;\">III. L'Unicode :</span>"
   ]
  },
  {
   "cell_type": "markdown",
   "metadata": {},
   "source": [
    "Cette dernière table vise à pallier les manques des précédentes.\n",
    "\n",
    "\n",
    "L'Unicode est maintenu par l'_Unicode Consortium_. Cette table est en fait un répertoire de caractères.\n",
    "\n",
    "A chaque caractère est associé un code, appelé point unicode.\n",
    "\n",
    "La version de mars $2019$ de la table compte $137\\:928$ caractères ! Elle vient même d'ajouter des émoticônes : &#x1F606; est le caractère U+1F606.\n",
    "\n",
    "Il serait fastidieux d'afficher ici tous les caractères de l'unicode. Le site https://unicode-table.com/fr/ permet toutefois de les trouver. Pouvez-vous trouver le &#2951;, fameuse lettre tamoule ?"
   ]
  },
  {
   "cell_type": "markdown",
   "metadata": {},
   "source": [
    "L'unicode est donc un \"simple\" répertoire. L'encodage des caractères, la façon de les coder en binaire dans l'ordinateur, peut varier. On retient trois standarts :\n",
    "* UTF-8 : les caractères sont codés sur $8$ bits ($256$ valeurs). Ces $256$ valeurs correspondent globalement à l'ISO-8859-1. Si un caractère \"dépasse\" la $256$-ième valeur, on utilise un autre octet, voire plusieurs autres. On peut ainsi coder l'ensemble des caractères unicode en utilisant dans la plupart des cas (textes de l'alphabet latin) que peu de données ($8$ bits)\n",
    "* UTF-16 : même idée mais sur 16 bits. On code par défaut plus de caractères mais on prend plus de place...\n",
    "* UTF-32 : idem en 32 bits. Pas besoin d'ajouter de nouveaux caractères, tous y sont déjà par défaut"
   ]
  },
  {
   "cell_type": "markdown",
   "metadata": {},
   "source": [
    "Python connaît aussi l'unicode :"
   ]
  },
  {
   "cell_type": "code",
   "execution_count": null,
   "metadata": {},
   "outputs": [],
   "source": [
    "# Affiche un caractère unicode indiqué par son code\n",
    "print(u'\\u0B87')"
   ]
  },
  {
   "cell_type": "code",
   "execution_count": null,
   "metadata": {},
   "outputs": [],
   "source": [
    "# Donne l'encodage utf-8 en hexadécimal du code unicode\n",
    "print('UTF-8', u'\\u0B87'.encode('utf-8'))\n",
    "\n",
    "# Vérifier avec : https://unicode-table.com/fr/0B87/"
   ]
  }
 ],
 "metadata": {
  "kernelspec": {
   "display_name": "Python 3",
   "language": "python",
   "name": "python3"
  },
  "language_info": {
   "codemirror_mode": {
    "name": "ipython",
    "version": 3
   },
   "file_extension": ".py",
   "mimetype": "text/x-python",
   "name": "python",
   "nbconvert_exporter": "python",
   "pygments_lexer": "ipython3",
   "version": "3.7.4"
  }
 },
 "nbformat": 4,
 "nbformat_minor": 2
}
