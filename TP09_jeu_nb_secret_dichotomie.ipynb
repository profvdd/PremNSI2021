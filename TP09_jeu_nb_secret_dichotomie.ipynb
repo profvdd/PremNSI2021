{
 "cells": [
  {
   "cell_type": "markdown",
   "metadata": {},
   "source": [
    "## TP9 Jeu du nombre mystérieux"
   ]
  },
  {
   "cell_type": "markdown",
   "metadata": {},
   "source": [
    "## Exercice 1\n",
    "En se basant sur le code initial du jeu vu dans le TD recherche dichotomique, rappelé ci-dessous :\n",
    "\n",
    "`\n",
    "from random import *\n",
    "x = randint(1,100)\n",
    "essai = 0\n",
    "trouve = False\n",
    "while not(trouve) and essai<7 :\n",
    "    coup = int(input('Entrez un entier compris entre 1 et 100 : '))\n",
    "    if coup>x:\n",
    "        print('Votre nombre est trop grand')\n",
    "    elif coup<x:\n",
    "        print('Votre nombre est trop petit')\n",
    "    else :\n",
    "        trouve = coup == x\n",
    "    essai += 1\n",
    "if trouve:\n",
    "    print('Nombre mystère ',x,' trouvé en ',essai,' essais')\n",
    "else:\n",
    "    print('Raté le nombre mystère était :',x)    \n",
    "`\n",
    "\n",
    "Ecrire un programme qui permette d'inverser les rôles.\n",
    "Cette fois c'est l'ordinateur qui joue contre vous. Vous choisissez un nombre entre 0 et 1000 et l'ordinateur doit le trouver, __le plus efficacement possible__.\n",
    "A chaque proposition de l'ordinateur, vous devez donner une réponse sous la forme d'une chaine de caractères parmi :\n",
    "- \"trop grand\" si la proposition de l'ordinateur est plus grande que votre nombre,\n",
    "- \"trop petit\" si elle est plus petite\n",
    "- et \"bravo\" quand le programme propose le bon nombre.\n",
    "\n",
    "Le programme affichera également le nombre de tentatives.\n",
    "Vous vérifierez l'efficacité de votre programme si le nombre de tentatives ne dépasse pas 10 essais pour un nombre entre 1 et 1000( $log_2 (1000) \\approx 9.9657$ )\n"
   ]
  },
  {
   "cell_type": "code",
   "execution_count": 6,
   "metadata": {},
   "outputs": [],
   "source": [
    "# Code de votre programme ici"
   ]
  },
  {
   "cell_type": "markdown",
   "metadata": {},
   "source": [
    "## Exercice 2 \n",
    "\n",
    "On reprend maintenant le jeu du nombre mystérieux avec les rôles initiaux : l'ordinateur choisit un nombre (entre 1 et 100) et vous cherchez à le trouver.\n",
    "\n",
    "Ecrire cette fois un programme qui triche au jeu du nombre mystérieux.\n",
    "\n",
    "Ce programme, plutôt que de fixer dès le début un nombre mystère, devra faire durer la partie aussi longtemps que possible mais sans jamais donner une réponse (\"trop grand\" ou \"trop petit\") qui contredirait vos essais précédents. "
   ]
  },
  {
   "cell_type": "code",
   "execution_count": null,
   "metadata": {},
   "outputs": [],
   "source": [
    "# Code de votre programme ici"
   ]
  },
  {
   "cell_type": "markdown",
   "metadata": {},
   "source": [
    "## Exercice 3  (facultatif)\n",
    "\n",
    "Pour les fanas d'IHM, écrire le code reprenant l'un des deux programmes précédents mais avec une interface graphique (`tkinter` par exemple)."
   ]
  },
  {
   "cell_type": "code",
   "execution_count": null,
   "metadata": {},
   "outputs": [],
   "source": []
  }
 ],
 "metadata": {
  "kernelspec": {
   "display_name": "Python 3",
   "language": "python",
   "name": "python3"
  },
  "language_info": {
   "codemirror_mode": {
    "name": "ipython",
    "version": 3
   },
   "file_extension": ".py",
   "mimetype": "text/x-python",
   "name": "python",
   "nbconvert_exporter": "python",
   "pygments_lexer": "ipython3",
   "version": "3.7.3"
  }
 },
 "nbformat": 4,
 "nbformat_minor": 2
}
