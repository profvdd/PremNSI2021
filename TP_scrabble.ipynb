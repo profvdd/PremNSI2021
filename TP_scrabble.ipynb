{
 "cells": [
  {
   "cell_type": "markdown",
   "metadata": {},
   "source": [
    "# TP Dictionnaire : Scrabble"
   ]
  },
  {
   "cell_type": "markdown",
   "metadata": {},
   "source": [
    "### 1. Initialisation d'un dictionnaire des valeurs des lettres minuscules au scrabble"
   ]
  },
  {
   "cell_type": "code",
   "execution_count": null,
   "metadata": {},
   "outputs": [],
   "source": [
    "scrabble = {\n",
    "    'a' : 1,'e' : 1,'i' : 1,'o' : 1,'u' : 1,\n",
    "    'n' : 1,'r' : 1,'t' : 1,'l' : 1,'s' : 1,\n",
    "    'd' : 2,'g' : 2,\n",
    "    'b' : 3, 'c' : 3, 'm' : 3, 'p' : 3,\n",
    "    'f' : 4, 'h' : 4, 'v' : 4, 'w' : 4, 'y' : 4,\n",
    "    'k' : 5, \n",
    "    'j' : 8, 'x' : 8,\n",
    "    'q' : 10, 'z' : 10}"
   ]
  },
  {
   "cell_type": "markdown",
   "metadata": {},
   "source": [
    "### 2. Créer une fonction `signature` chargée de renvoyer un dictionnaire des occurences des lettres d'un mot. "
   ]
  },
  {
   "cell_type": "code",
   "execution_count": null,
   "metadata": {},
   "outputs": [],
   "source": [
    "def signature(mot):\n",
    "    \"\"\" La fonction prend en entrée la chaine de caractères mot \n",
    "    et renvoie un dictionnaire dico représentant le nombre d'occurences\n",
    "    de chaque lettre minuscule présente dans mot\"\"\" \n",
    "    dico  = {}  \n",
    "    for lettre in mot:\n",
    "        \"votre code ici\"\n",
    "        \n",
    "    return dico\n",
    "\n",
    "#Tests unitaires de la fonction signature\n",
    "assert signature(\"\") == {}\n",
    "assert signature(\"ananas\") == {'a': 3, 'n': 2, 's': 1}\n",
    "assert signature(\"abcd\") == {'a': 1, 'b': 1, 'c': 1, 'd': 1}"
   ]
  },
  {
   "cell_type": "code",
   "execution_count": null,
   "metadata": {},
   "outputs": [],
   "source": [
    "signature(\"dictionnaire\")"
   ]
  },
  {
   "cell_type": "markdown",
   "metadata": {},
   "source": [
    "### 3. Créer une fonction `score_mot` chargée de calculer le total des points d'un mot"
   ]
  },
  {
   "cell_type": "code",
   "execution_count": null,
   "metadata": {},
   "outputs": [],
   "source": [
    "def score_mot(mot):\n",
    "    \"\"\"La fonction prend en paramètre un mot de type str, \n",
    "    et renvoie un integer s égal au score du mot au scrabble\"\"\" \n",
    "    s = 0\n",
    "    \"à compléter\"\n",
    "    \n",
    "    return s\n",
    "\n",
    "#Tests unitaires de la fonction signature\n",
    "assert score_mot(\"\") == 0\n",
    "assert score_mot(\"zazou\") == 23\n",
    "assert score_mot(\"ananas\") == 6"
   ]
  },
  {
   "cell_type": "code",
   "execution_count": null,
   "metadata": {},
   "outputs": [],
   "source": [
    "print(score_mot(\"encodage\"))"
   ]
  },
  {
   "cell_type": "markdown",
   "metadata": {},
   "source": [
    "### 4. Créer une fonction `mot_possible` chargée de vérifier si un mot peut être obtenu à partir des lettres disponibles"
   ]
  },
  {
   "cell_type": "code",
   "execution_count": null,
   "metadata": {},
   "outputs": [],
   "source": [
    "def mot_possible(mot, sig_lettres):\n",
    "    \"\"\"La fonction prend en paramètres : \n",
    "    mot de type str\n",
    "    sig_lettres, de type dict, représentant la signature des lettres disponibles\n",
    "    et renvoie un booléen indiquant si le mot peut être composé avec les lettres disponibles\"\"\"\n",
    "    sig_mot = signature(mot)\n",
    "    \"à compléter\"\n",
    "    for  in :\n",
    "        if  :\n",
    "            return False\n",
    "    return True\n",
    "\n",
    "#Tests unitaires de la fonction mot_possible\n",
    "assert mot_possible(\"zazou\", {\"a\" : 1, \"b\" : 1, \"o\" : 2, \"u\" : 1, \"z\" : 2}) == True\n",
    "assert mot_possible(\"zazou\", {\"b\" : 1, \"o\" : 1, \"u\" : 1, \"z\" : 2}) == False\n",
    "assert mot_possible(\"zazou\", {\"a\" : 1, \"o\" : 2, \"u\" : 3, \"z\" : 1}) == False"
   ]
  },
  {
   "cell_type": "code",
   "execution_count": null,
   "metadata": {},
   "outputs": [],
   "source": [
    "jeu1 = {\"a\" : 1,\"e\" : 2, \"o\" : 1, \"c\" : 1 , \"g\" : 1, \"d\" : 1, \"n\" : 1 }\n",
    "jeu2 = {\"a\" : 2,\"e\" : 1, \"o\" : 1, \"c\" : 1 , \"g\" : 1, \"d\" : 1, \"n\" : 1 }\n",
    "print(\"Poser 'encodage' avec le jeu1 :\",mot_possible(\"encodage\",jeu1))\n",
    "print(\"Poser 'encodage' avec le jeu2 :\",mot_possible(\"encodage\",jeu2))"
   ]
  },
  {
   "cell_type": "markdown",
   "metadata": {},
   "source": [
    "### 5. Compléter le code du programme principal"
   ]
  },
  {
   "cell_type": "code",
   "execution_count": null,
   "metadata": {},
   "outputs": [],
   "source": [
    "# Saisie du nombre de mots du dictionnaire\n",
    "n = int(input('Nombre de mots : '))\n",
    "\n",
    "# Saisie des mots du dictionnaire dans une liste\n",
    "candidats = []\n",
    "for i in range(n):\n",
    "    essai = input()\n",
    "    candidats.append(essai)\n",
    "lettres = input('Vos lettres : ').rstrip()\n",
    "jeu = signature(lettres)\n",
    "smax = 0\n",
    "mot_max = \"\"\n",
    "\n",
    "# Boucle sur les mots du dictionnaire\n",
    "for mot in candidats:\n",
    "    \"à compléter\"\n",
    "    \n",
    "    \n",
    "    \n",
    "    \n",
    "    \n",
    "# Exécution du programme \n",
    "print('Meilleur mot :', mot_max,' -  Points :',smax)"
   ]
  }
 ],
 "metadata": {
  "kernelspec": {
   "display_name": "Python 3",
   "language": "python",
   "name": "python3"
  },
  "language_info": {
   "codemirror_mode": {
    "name": "ipython",
    "version": 3
   },
   "file_extension": ".py",
   "mimetype": "text/x-python",
   "name": "python",
   "nbconvert_exporter": "python",
   "pygments_lexer": "ipython3",
   "version": "3.7.0"
  }
 },
 "nbformat": 4,
 "nbformat_minor": 2
}
