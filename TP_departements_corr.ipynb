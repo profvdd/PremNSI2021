{
 "cells": [
  {
   "cell_type": "markdown",
   "metadata": {},
   "source": [
    "# TP Départements - CORRECTION\n",
    "\n",
    "## Traitements de données en tables\n",
    "\n",
    "Dans ce TP nous allons traiter un fichier de données structurées au format `CSV` à l'aide de la bibliothèque Python `csv` déjà utilisée dans le TP sur les prénoms.\n",
    "\n",
    "Le fichier utilisé, <a href=\"departement_francais.csv\"><b>departement_francais.csv</b></a> est issu du site  https://www.data.gouv.fr .  \n",
    "Il contient la liste des départements français avec comme ligne d'entête les champs suivants :\n",
    "<ul>\n",
    "    <li>\n",
    "        <b>Numéro</b> : Numéro du département\n",
    "    </li>\n",
    "    <li>\n",
    "        <b>Département</b> : nom du département\n",
    "    </li>\n",
    "    <li>\n",
    "        <b>Superficie</b> : en km²\n",
    "    </li>\n",
    "    <li>\n",
    "        <b>Population</b>\n",
    "    </li>\n",
    "</ul>"
   ]
  },
  {
   "cell_type": "markdown",
   "metadata": {},
   "source": [
    "## 1. Lecture du fichier `departement_francais.csv`  \n",
    "\n",
    "Uploader dans Jupyter le fichier csv puis éxécuter le code ci-dessous pour afficher la liste des départements :"
   ]
  },
  {
   "cell_type": "code",
   "execution_count": 1,
   "metadata": {},
   "outputs": [
    {
     "name": "stdout",
     "output_type": "stream",
     "text": [
      "['1', 'Ain', '5762', '638425']\n",
      "['2', 'Aisne', '7369', '536136']\n",
      "['3', 'Allier', '7340', '339384']\n",
      "['4', 'Alpes-de-Haute-Provence', '6925', '162565']\n",
      "['5', 'Hautes-Alpes', '5549', '141107']\n",
      "['6', 'Alpes-Maritimes', '4299', '1083704']\n",
      "['7', 'Ardèche', '5529', '325157']\n",
      "['8', 'Ardennes', '5229', '275371']\n",
      "['9', 'Ariège', '4890', '153067']\n",
      "['10', 'Aube', '6004', '308910']\n"
     ]
    }
   ],
   "source": [
    "import csv\n",
    "FICHIER_DEPARTEMENTS = \"departement_francais.csv\"\n",
    "\n",
    "def lit_fichier_csv(nom_fichier):\n",
    "    f = open(nom_fichier,encoding=\"utf-8\")\n",
    "    reader = csv.reader(f)\n",
    "    #reader = csv.DictReader(f)\n",
    "    donnees = [ligne for ligne in reader]\n",
    "    return donnees[1:]\n",
    "\n",
    "donnees = lit_fichier_csv(FICHIER_DEPARTEMENTS)\n",
    "for ligne in donnees[:10]:\n",
    "    print(ligne)"
   ]
  },
  {
   "cell_type": "markdown",
   "metadata": {},
   "source": [
    "### Remarques :\n",
    "La fonction `lit_fichier_csv(nom_fichier)` lit le fichier `nom_fichier` qui est passé en paramètre et renvoie une liste de listes contenant chaque ligne du fichier sauf la ligne d'entête.\n"
   ]
  },
  {
   "cell_type": "markdown",
   "metadata": {},
   "source": [
    "## Exercice 1\n",
    "- Compléter la documentation (*docstring*) de la fonction `nom_departement(numero)` qui doit renvoyer le nom du département correspondant au `numero` passé en paramètre si le numéro de département est bien présent dans le fichier ou bien \"Numéro de département inconnu\" sinon.  \n",
    "- Ajouter un ou deux tests unitaires `assert`  \n",
    "**Attention au type de données** du numéro de département renvoyé par la fonction `lit_fichier_csv(nom_fichier)`  "
   ]
  },
  {
   "cell_type": "code",
   "execution_count": 2,
   "metadata": {},
   "outputs": [],
   "source": [
    "def nom_departement(numero):\n",
    "    '''la fonction prend en argument un numero de département \n",
    "    de type int ou string et renvoie en chaine de caractères\n",
    "    le nom du département ou le message département inconnu '''\n",
    "    donnees = lit_fichier_csv(FICHIER_DEPARTEMENTS)\n",
    "    for d in donnees:\n",
    "        if d[0] == str(numero):\n",
    "            return d[1]\n",
    "    return \"Numéro de département inconnu\"\n",
    "\n",
    "\n",
    "# Ajouter ici les tests unitaires\n",
    "assert nom_departement(1)=='Ain'\n",
    "assert nom_departement('2B')== 'Haute-Corse'\n",
    "assert nom_departement(100)==\"Numéro de département inconnu\""
   ]
  },
  {
   "cell_type": "code",
   "execution_count": 3,
   "metadata": {},
   "outputs": [
    {
     "name": "stdout",
     "output_type": "stream",
     "text": [
      "Vaucluse\n"
     ]
    }
   ],
   "source": [
    "print(nom_departement(84))"
   ]
  },
  {
   "cell_type": "markdown",
   "metadata": {},
   "source": [
    "## Exercice 2"
   ]
  },
  {
   "cell_type": "markdown",
   "metadata": {},
   "source": [
    "- En vous aidant du code précédent, compléter la fonction `numero_departement(nom)` qui doit retourner le numéro du département correspondant au `nom` du département passé en paramètre si le nom de département est bien présent dans le fichier ou bien \"Nom de département inconnu\" sinon.  \n",
    "- Compléter également la documentation et ajouter un ou deux tests `assert`"
   ]
  },
  {
   "cell_type": "code",
   "execution_count": 4,
   "metadata": {},
   "outputs": [],
   "source": [
    "def numero_departement(nom):\n",
    "    '''La fonction prend en argument un string nom\n",
    "    et renvoie un string correspondant au numéro du département\n",
    "    ou un message si nom n est pas un département '''\n",
    "    donnees = lit_fichier_csv(FICHIER_DEPARTEMENTS)\n",
    "    for d in donnees:\n",
    "        if d[1]==nom:\n",
    "            return d[0]\n",
    "    return 'Nom de département inconnu'"
   ]
  },
  {
   "cell_type": "code",
   "execution_count": 5,
   "metadata": {},
   "outputs": [
    {
     "name": "stdout",
     "output_type": "stream",
     "text": [
      "Help on function numero_departement in module __main__:\n",
      "\n",
      "numero_departement(nom)\n",
      "    La fonction prend en argument un string nom\n",
      "    et renvoie un string correspondant au numéro du département\n",
      "    ou un message si nom n est pas un département\n",
      "\n"
     ]
    }
   ],
   "source": [
    "help(numero_departement)"
   ]
  },
  {
   "cell_type": "code",
   "execution_count": 6,
   "metadata": {},
   "outputs": [],
   "source": [
    "# Vos tests unitaires ici\n",
    "assert numero_departement('Ain')=='1'\n",
    "assert numero_departement('Vaucluse')=='84'\n",
    "assert numero_departement('bouches-du-rhone')=='Nom de département inconnu'"
   ]
  },
  {
   "cell_type": "code",
   "execution_count": 7,
   "metadata": {},
   "outputs": [
    {
     "name": "stdout",
     "output_type": "stream",
     "text": [
      "13\n"
     ]
    }
   ],
   "source": [
    "print(numero_departement('Bouches-du-Rhône'))"
   ]
  },
  {
   "cell_type": "markdown",
   "metadata": {},
   "source": [
    "## Exercice 3"
   ]
  },
  {
   "cell_type": "markdown",
   "metadata": {},
   "source": [
    "- En vous aidant du code de l'**Exercice 1**, compléter la fonction `superficie_et_population_departement(numero)` qui doit renvoyer la superficie et la population département correspondant au `numero` du département passé en paramètre si le numéro du département est bien présent dans le fichier ou bien \"Numéro de département inconnu\" sinon.  \n",
    "- Compléter également la documentation et ajouter un ou deux tests `assert`"
   ]
  },
  {
   "cell_type": "code",
   "execution_count": 8,
   "metadata": {},
   "outputs": [],
   "source": [
    "def superficie_et_population_departement(numero):\n",
    "    '''La fonction prend en argument un numero de département \n",
    "    de type int ou string et renvoie :\n",
    "    - un tuple de deux integer, la superficie et la population si numero est un numero valide de département\n",
    "    - le message Numéro de département inconnu, sinon '''\n",
    "    donnees = lit_fichier_csv(FICHIER_DEPARTEMENTS)\n",
    "    # votre code ici\n",
    "    for d in donnees:\n",
    "        if d[0] == str(numero):\n",
    "            return int(d[2]),int(d[3])\n",
    "    return \"Numéro de département inconnu\""
   ]
  },
  {
   "cell_type": "code",
   "execution_count": 9,
   "metadata": {},
   "outputs": [],
   "source": [
    "# Vos tests unitaires ici\n",
    "assert superficie_et_population_departement(1)==(5762,638425)\n",
    "assert superficie_et_population_departement('2B')==(4666,176152)\n",
    "assert superficie_et_population_departement(100)=='Numéro de département inconnu'"
   ]
  },
  {
   "cell_type": "code",
   "execution_count": 10,
   "metadata": {},
   "outputs": [
    {
     "name": "stdout",
     "output_type": "stream",
     "text": [
      "Superficie BdR : 5087 km^2 et population : 2019717\n"
     ]
    }
   ],
   "source": [
    "surface,effectif = superficie_et_population_departement(13)\n",
    "print('Superficie BdR :',surface,'km^2 et population :',effectif)"
   ]
  },
  {
   "cell_type": "markdown",
   "metadata": {},
   "source": [
    "## Exercice 4"
   ]
  },
  {
   "cell_type": "markdown",
   "metadata": {},
   "source": [
    "- Compléter la fonction `intervalle_population(mini,maxi)` qui doit retourner la liste des noms des départements dont la population est comprise dans l'intervalle [min,maxi].  \n",
    "- Compléter également la documentation et ajouter un ou deux tests `assert`"
   ]
  },
  {
   "cell_type": "code",
   "execution_count": 11,
   "metadata": {},
   "outputs": [],
   "source": [
    "def intervalle_population(mini,maxi):\n",
    "    '''La fonction prend en arguments deux entiers : mini et maxi \n",
    "    et renvoie dept une liste de noms de département dont la population est comprise entre mini et maxi'''\n",
    "    donnees = lit_fichier_csv(FICHIER_DEPARTEMENTS)\n",
    "    # votre code ici\n",
    "    dept = []\n",
    "    for d in donnees:\n",
    "        if int(d[3])>=mini and int(d[3])<=maxi:\n",
    "        # if mini <= int(d[3]) <= maxi :   \n",
    "            dept.append(d[1])    \n",
    "    return dept"
   ]
  },
  {
   "cell_type": "code",
   "execution_count": 12,
   "metadata": {},
   "outputs": [],
   "source": [
    "# Vos tests unitaires ici\n",
    "assert intervalle_population(0,100)==[]\n",
    "assert intervalle_population(0,100000)==['Lozère']\n",
    "assert intervalle_population(2000000,5000000)==['Bouches-du-Rhône', 'Nord', 'Paris']"
   ]
  },
  {
   "cell_type": "code",
   "execution_count": 13,
   "metadata": {},
   "outputs": [
    {
     "data": {
      "text/plain": [
       "[\"Côtes-d'Armor\", 'Marne', 'Saône-et-Loire', 'Sarthe', 'Somme', 'Vaucluse']"
      ]
     },
     "execution_count": 13,
     "metadata": {},
     "output_type": "execute_result"
    }
   ],
   "source": [
    "intervalle_population(550000,600000)"
   ]
  },
  {
   "cell_type": "markdown",
   "metadata": {},
   "source": [
    "## Exercice 5"
   ]
  },
  {
   "cell_type": "markdown",
   "metadata": {},
   "source": [
    "- Compléter la fonction `top_population(nb)` qui doit renvoyer la liste des <code>nb</code> départements les plus peuplés.  \n",
    "- On retournera une **liste de dictionnaires** dont la **clef** sera le nom du département et la **valeur** le nombre d'habitants du département."
   ]
  },
  {
   "cell_type": "code",
   "execution_count": 14,
   "metadata": {},
   "outputs": [],
   "source": [
    "def top_population(nb):\n",
    "    '''La fonction prend en argument un entier nb\n",
    "    et renvoie dico un dictionnaire de nb départements\n",
    "    ayant pour chaque cle le nom du département et pour valeur sa population '''\n",
    "    donnees = lit_fichier_csv(FICHIER_DEPARTEMENTS)\n",
    "    donnees_triees = sorted(donnees, key=lambda d:int(d[3]), reverse=True)\n",
    "    # votre code ici\n",
    "    dico={}\n",
    "    for d in donnees_triees[:nb]:\n",
    "        dico[d[1]]=d[3]\n",
    "    return dico"
   ]
  },
  {
   "cell_type": "code",
   "execution_count": 15,
   "metadata": {},
   "outputs": [],
   "source": [
    "# Vos tests unitaires ici\n",
    "assert top_population(0)=={}\n",
    "assert top_population(2)=={'Nord': '2603723', 'Paris': '2190327'}"
   ]
  },
  {
   "cell_type": "markdown",
   "metadata": {},
   "source": [
    "<p>Utiliser les fonctions précédentes pour déterminer le département le plus densemment peuplé et le département le moins densemment peuplé.</p>"
   ]
  },
  {
   "cell_type": "code",
   "execution_count": 16,
   "metadata": {},
   "outputs": [
    {
     "name": "stdout",
     "output_type": "stream",
     "text": [
      "Le plus peuplé : {'Nord': '2603723'}\n"
     ]
    }
   ],
   "source": [
    "print('Le plus peuplé :',top_population(1))"
   ]
  },
  {
   "cell_type": "code",
   "execution_count": 17,
   "metadata": {},
   "outputs": [],
   "source": [
    "def flop_population(nb):\n",
    "    '''La fonction prend en argument un entier nb\n",
    "    et renvoie dico un dictionnaire de nb départements\n",
    "    ayant pour chaque cle le nom du département et pour valeur sa population '''\n",
    "    donnees = lit_fichier_csv(FICHIER_DEPARTEMENTS)\n",
    "    donnees_triees = sorted(donnees, key=lambda d:int(d[3]))\n",
    "    # votre code ici\n",
    "    dico={}\n",
    "    for d in donnees_triees[:nb]:\n",
    "        dico[d[1]]=d[3]\n",
    "    return dico"
   ]
  },
  {
   "cell_type": "code",
   "execution_count": 18,
   "metadata": {},
   "outputs": [
    {
     "name": "stdout",
     "output_type": "stream",
     "text": [
      "Le moins peuplé : {'Lozère': '76422'}\n"
     ]
    }
   ],
   "source": [
    "print('Le moins peuplé :',flop_population(1))"
   ]
  },
  {
   "cell_type": "markdown",
   "metadata": {},
   "source": [
    "## Exercice 6\n",
    "Déterminer enfin la superficie totale du territoire français (métropole uniquement) en écrivant le corps de la fonction `superficie_territoire_francais()`. Vous effectuerez pour cela la somme des superficies de chaque département."
   ]
  },
  {
   "cell_type": "code",
   "execution_count": 19,
   "metadata": {},
   "outputs": [],
   "source": [
    "def superficie_territoire_francais():\n",
    "    '''La fonction renvoie total un entier correspondant à la superficie totale \n",
    "    du territoire français métropole uniquement'''\n",
    "    donnees = lit_fichier_csv(FICHIER_DEPARTEMENTS)\n",
    "    # votre code ici\n",
    "    total = 0\n",
    "    for d in donnees:\n",
    "        if d[0]<'970':\n",
    "            total+=int(d[2])\n",
    "    return total"
   ]
  },
  {
   "cell_type": "code",
   "execution_count": 20,
   "metadata": {},
   "outputs": [
    {
     "data": {
      "text/plain": [
       "543948"
      ]
     },
     "execution_count": 20,
     "metadata": {},
     "output_type": "execute_result"
    }
   ],
   "source": [
    "superficie_territoire_francais()"
   ]
  },
  {
   "cell_type": "markdown",
   "metadata": {},
   "source": [
    "Comparer le résultat de votre programme avec celui donné officiellement.  \n",
    "Comment expliquer la différence ?"
   ]
  }
 ],
 "metadata": {
  "kernelspec": {
   "display_name": "Python 3",
   "language": "python",
   "name": "python3"
  },
  "language_info": {
   "codemirror_mode": {
    "name": "ipython",
    "version": 3
   },
   "file_extension": ".py",
   "mimetype": "text/x-python",
   "name": "python",
   "nbconvert_exporter": "python",
   "pygments_lexer": "ipython3",
   "version": "3.7.0"
  }
 },
 "nbformat": 4,
 "nbformat_minor": 4
}
