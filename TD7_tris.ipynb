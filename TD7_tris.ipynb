{
 "cells": [
  {
   "cell_type": "markdown",
   "metadata": {},
   "source": [
    "# TD7 - algorithmes de tris"
   ]
  },
  {
   "cell_type": "markdown",
   "metadata": {},
   "source": [
    "**Exercice 1**"
   ]
  },
  {
   "cell_type": "code",
   "execution_count": null,
   "metadata": {},
   "outputs": [],
   "source": [
    "def cherche_min(liste):\n",
    "    \"\"\"La fonction prend en argument une liste et renvoie un tuple (min,rang)\n",
    "    la valeur minimale de la liste et son indice.\n",
    "    liste : une liste non vide de nombres ou chaine de caractères\n",
    "    mini : nombre, valeur minimale de la liste\n",
    "    rang : integer, indice de min\"\"\"\n",
    "    mini = liste[0]\n",
    "    rang = 0\n",
    "    # continuez le code ici\n",
    "    \n",
    "    \n",
    "    \n",
    "    return (mini,rang)"
   ]
  },
  {
   "cell_type": "markdown",
   "metadata": {},
   "source": [
    "Tests unitaires à passer :"
   ]
  },
  {
   "cell_type": "code",
   "execution_count": null,
   "metadata": {},
   "outputs": [],
   "source": [
    "assert cherche_min([4,8,6,2,25]) == (2,3)\n",
    "assert cherche_min([5]) == (5,0)\n",
    "assert cherche_min([1.1,1.3,1.9]) == (1.1,0)\n",
    "assert cherche_min([6,12,3]) == (3,2)"
   ]
  },
  {
   "cell_type": "markdown",
   "metadata": {},
   "source": [
    "## 2.1. Tri par sélection\n",
    "**Exercice 2**"
   ]
  },
  {
   "cell_type": "code",
   "execution_count": null,
   "metadata": {},
   "outputs": [],
   "source": [
    "def tri_par_selection(liste):\n",
    "    \"\"\"La fonction prend en argument une liste non vide et\n",
    "    renvoie la liste triée.\n",
    "    liste : une liste non vide de nombres ou chaine de caractères\"\"\"\n",
    "    # votre code ici\n",
    "    \n",
    "    \n",
    "    \n",
    "    return liste"
   ]
  },
  {
   "cell_type": "code",
   "execution_count": null,
   "metadata": {},
   "outputs": [],
   "source": [
    "assert tri_par_selection([4,8,6,2,25]) == [2,4,6,8,25]\n",
    "assert tri_par_selection([5]) == [5]\n",
    "assert tri_par_selection([1.1,1.3,1.9]) == [1.1,1.3,1.9]\n",
    "assert tri_par_selection([36,12,3]) == [3,12,36]"
   ]
  },
  {
   "cell_type": "markdown",
   "metadata": {},
   "source": [
    "**Exercice 3**"
   ]
  },
  {
   "cell_type": "code",
   "execution_count": null,
   "metadata": {},
   "outputs": [],
   "source": [
    "def tri_par_selection_V2(liste):\n",
    "    \"\"\"La fonction prend en argument une liste non vide et\n",
    "    renvoie la liste triée en utilisant la fonction cherche_min\n",
    "    liste : une liste non vide de nombres ou chaine de caractères\"\"\"\n",
    "    # votre code ici\n",
    "    \n",
    "    \n",
    "    return liste"
   ]
  },
  {
   "cell_type": "code",
   "execution_count": null,
   "metadata": {},
   "outputs": [],
   "source": [
    "assert tri_par_selection_V2([4,8,6,2,25]) == [2,4,6,8,25]\n",
    "assert tri_par_selection_V2([5]) == [5]\n",
    "assert tri_par_selection_V2([1.1,1.3,1.9]) == [1.1,1.3,1.9]\n",
    "assert tri_par_selection_V2([36,12,3]) == [3,12,36]   "
   ]
  },
  {
   "cell_type": "markdown",
   "metadata": {},
   "source": [
    "## 3.1. Tri par insertion\n",
    "**Exercice 4**"
   ]
  },
  {
   "cell_type": "code",
   "execution_count": null,
   "metadata": {},
   "outputs": [],
   "source": [
    "def insertion(liste,rang):\n",
    "    \"\"\"La fonction prend en arguments une liste non vide et un indice,\n",
    "    et insère dans la liste l'élément d'indice rang parmi les éléments d'indice 0 à rang-1.\n",
    "    liste : une liste non vide de nombres ou chaine de caractères\n",
    "    rang : un entier.\"\"\"\n",
    "    m = liste[rang]\n",
    "    # votre code ici\n",
    "    \n",
    "    \n",
    "    return liste"
   ]
  },
  {
   "cell_type": "code",
   "execution_count": null,
   "metadata": {},
   "outputs": [],
   "source": [
    "assert insertion([2,8,12,6,4],3) == [2,6,8,12,4]\n",
    "assert insertion([2,8,12,4],2) == [2,8,12,4]\n",
    "assert insertion([10,20,4,1],2) == [4,10,20,1]"
   ]
  },
  {
   "cell_type": "code",
   "execution_count": null,
   "metadata": {},
   "outputs": [],
   "source": [
    "def tri_par_insertion(liste):\n",
    "    \"\"\"La fonction prend en argument une liste non vide et renvoie la liste triée.\n",
    "    liste : une liste non vide de nombres ou chaines de caractères\n",
    "    \"\"\"\n",
    "    # votre code ici\n",
    "    \n",
    "    \n",
    "    return liste"
   ]
  },
  {
   "cell_type": "code",
   "execution_count": null,
   "metadata": {},
   "outputs": [],
   "source": [
    "assert tri_par_insertion([4,8,6,2,25]) == [2,4,6,8,25]\n",
    "assert tri_par_insertion([5]) == [5]\n",
    "assert tri_par_insertion([1.1,1.3,1.9]) == [1.1,1.3,1.9]\n",
    "assert tri_par_insertion([36,12,3]) == [3,12,36]"
   ]
  }
 ],
 "metadata": {
  "kernelspec": {
   "display_name": "Python 3",
   "language": "python",
   "name": "python3"
  },
  "language_info": {
   "codemirror_mode": {
    "name": "ipython",
    "version": 3
   },
   "file_extension": ".py",
   "mimetype": "text/x-python",
   "name": "python",
   "nbconvert_exporter": "python",
   "pygments_lexer": "ipython3",
   "version": "3.7.3"
  }
 },
 "nbformat": 4,
 "nbformat_minor": 2
}
