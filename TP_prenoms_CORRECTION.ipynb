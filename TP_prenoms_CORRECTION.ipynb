{
 "cells": [
  {
   "cell_type": "markdown",
   "metadata": {},
   "source": [
    "# TP Les prénoms de 1900 à 2018"
   ]
  },
  {
   "cell_type": "markdown",
   "metadata": {},
   "source": [
    "## 1. Importation d'un fichier csv\n",
    "\n",
    "On peut récupérer sur le site de l'INSEE de nombreux fichiers de données en format .txt ou .csv  \n",
    "Nous utiliserons dans ce TP le fichier `nat2018.csv` qui contient des données sur les prénoms attribués aux enfants nés en France entre 1900 et 2018. Le code ci-dessous permet de récupérer dans la variable `liste_2018`, **liste de dictionnaires**, les données contenues dans le fichier csv.  <br/><br/>\n",
    "Exécutez ce code et interprétez les différentes lignes."
   ]
  },
  {
   "cell_type": "code",
   "execution_count": 1,
   "metadata": {},
   "outputs": [
    {
     "data": {
      "text/plain": [
       "[{'sexe': '1', 'preusuel': 'A', 'annais': '1980', 'nombre': '3'},\n",
       " {'sexe': '1', 'preusuel': 'A', 'annais': '1998', 'nombre': '3'},\n",
       " {'sexe': '1', 'preusuel': 'A', 'annais': 'XXXX', 'nombre': '21'},\n",
       " {'sexe': '1', 'preusuel': 'AADAM', 'annais': '2009', 'nombre': '4'},\n",
       " {'sexe': '1', 'preusuel': 'AADAM', 'annais': '2014', 'nombre': '3'},\n",
       " {'sexe': '1', 'preusuel': 'AADAM', 'annais': '2016', 'nombre': '4'},\n",
       " {'sexe': '1', 'preusuel': 'AADAM', 'annais': '2017', 'nombre': '4'},\n",
       " {'sexe': '1', 'preusuel': 'AADAM', 'annais': '2018', 'nombre': '3'},\n",
       " {'sexe': '1', 'preusuel': 'AADAM', 'annais': 'XXXX', 'nombre': '9'},\n",
       " {'sexe': '1', 'preusuel': 'AADEL', 'annais': '1976', 'nombre': '5'}]"
      ]
     },
     "execution_count": 1,
     "metadata": {},
     "output_type": "execute_result"
    }
   ],
   "source": [
    "import csv\n",
    "csv_2018 = open('nat2018.csv',\"r\",encoding='utf-8-sig')\n",
    "naissances = csv.DictReader(csv_2018, delimiter = \";\")\n",
    "liste_2018 = []\n",
    "for ligne in naissances:\n",
    "    dico={}\n",
    "    for cle,valeur in ligne.items():\n",
    "        dico[cle] = valeur\n",
    "    liste_2018.append(dico)\n",
    "csv_2018.close()\n",
    "liste_2018[:10]"
   ]
  },
  {
   "cell_type": "markdown",
   "metadata": {},
   "source": [
    "Remarquez que certaines lignes contiennent la chaine `'XXXX'` à la place d'une chaine année. C'est un choix de l'INSEE de regrouper les années pour lesquelles le prénom n'a été donné qu'une ou deux fois par an. \n",
    "Pour la suite de ce TP on ne tiendra pas compte de ces lignes ainsi que de celles indiquant `'_PRENOMS_RARES'` dans la colonne des prénoms. <br/><br/>\n",
    "Procédez à un nettoyage de cette liste en supprimant toutes les lignes (dictionnaires) contenant soit la chaine `'XXXX'` soit la chaine `'_PRENOMS_RARES'`. <br/><br/>\n",
    "**Exercice :** Créez pour cela une nouvelle liste `prenoms` (`liste_2018` nettoyée) en complétant le code ci-dessous : "
   ]
  },
  {
   "cell_type": "code",
   "execution_count": 2,
   "metadata": {},
   "outputs": [],
   "source": [
    "prenoms = []\n",
    "for ligne in liste_2018:\n",
    "    if ligne['annais']!='XXXX' and ligne['preusuel']!='_PRENOMS_RARES':\n",
    "        prenoms.append(ligne)"
   ]
  },
  {
   "cell_type": "markdown",
   "metadata": {},
   "source": [
    "- Affichez les 15 premières lignes de cette nouvelle liste `prenoms`, la dernière ligne affichée doit indiquer les naissances de 4 garçons prénommés AADIL en 1974.\n",
    "- Vérifiez que la liste contient bien 601 223 lignes.  "
   ]
  },
  {
   "cell_type": "code",
   "execution_count": 3,
   "metadata": {},
   "outputs": [
    {
     "name": "stdout",
     "output_type": "stream",
     "text": [
      "[{'sexe': '1', 'preusuel': 'A', 'annais': '1980', 'nombre': '3'}, {'sexe': '1', 'preusuel': 'A', 'annais': '1998', 'nombre': '3'}, {'sexe': '1', 'preusuel': 'AADAM', 'annais': '2009', 'nombre': '4'}, {'sexe': '1', 'preusuel': 'AADAM', 'annais': '2014', 'nombre': '3'}, {'sexe': '1', 'preusuel': 'AADAM', 'annais': '2016', 'nombre': '4'}, {'sexe': '1', 'preusuel': 'AADAM', 'annais': '2017', 'nombre': '4'}, {'sexe': '1', 'preusuel': 'AADAM', 'annais': '2018', 'nombre': '3'}, {'sexe': '1', 'preusuel': 'AADEL', 'annais': '1976', 'nombre': '5'}, {'sexe': '1', 'preusuel': 'AADEL', 'annais': '1978', 'nombre': '3'}, {'sexe': '1', 'preusuel': 'AADEL', 'annais': '1980', 'nombre': '3'}, {'sexe': '1', 'preusuel': 'AADEL', 'annais': '1981', 'nombre': '5'}, {'sexe': '1', 'preusuel': 'AADEL', 'annais': '1982', 'nombre': '4'}, {'sexe': '1', 'preusuel': 'AADEL', 'annais': '1983', 'nombre': '3'}, {'sexe': '1', 'preusuel': 'AADEL', 'annais': '1987', 'nombre': '5'}, {'sexe': '1', 'preusuel': 'AADIL', 'annais': '1974', 'nombre': '4'}]\n",
      "601223\n"
     ]
    }
   ],
   "source": [
    "print(prenoms[:15])\n",
    "print(len(prenoms))    "
   ]
  },
  {
   "cell_type": "markdown",
   "metadata": {},
   "source": [
    "## 2. Années de succes d'un prénom"
   ]
  },
  {
   "cell_type": "markdown",
   "metadata": {},
   "source": [
    "**EXERCICE :** Ecrivez une fonction `def annees_succes(liste1,prenom,eff_min)` produisant l'affichage des dictionnaires de `liste1` pour un `prenom` déclaré au moins `eff_min` par an. (Attention au type des années) <br/> \n",
    "Testez avec `annees_succes(prenoms,'ERIC',15000)` puis pour `ALICE` et avec quelques prénoms de votre choix. "
   ]
  },
  {
   "cell_type": "code",
   "execution_count": 4,
   "metadata": {},
   "outputs": [
    {
     "name": "stdout",
     "output_type": "stream",
     "text": [
      "{'sexe': '1', 'preusuel': 'ERIC', 'annais': '1961', 'nombre': '17893'}\n",
      "{'sexe': '1', 'preusuel': 'ERIC', 'annais': '1962', 'nombre': '17907'}\n",
      "{'sexe': '1', 'preusuel': 'ERIC', 'annais': '1963', 'nombre': '20048'}\n",
      "{'sexe': '1', 'preusuel': 'ERIC', 'annais': '1964', 'nombre': '19968'}\n",
      "{'sexe': '1', 'preusuel': 'ERIC', 'annais': '1965', 'nombre': '20140'}\n",
      "{'sexe': '1', 'preusuel': 'ERIC', 'annais': '1966', 'nombre': '18201'}\n",
      "{'sexe': '1', 'preusuel': 'ERIC', 'annais': '1967', 'nombre': '16714'}\n",
      "{'sexe': '1', 'preusuel': 'ERIC', 'annais': '1968', 'nombre': '16255'}\n"
     ]
    }
   ],
   "source": [
    "def annees_succes(liste1,prenom,eff_min):\n",
    "    for ligne in liste1:\n",
    "        if ligne['preusuel'] == prenom and int(ligne['nombre']) > eff_min:\n",
    "            print(ligne)\n",
    "annees_succes(prenoms,'ERIC',15000)"
   ]
  },
  {
   "cell_type": "markdown",
   "metadata": {},
   "source": [
    "Modifiez la fonction afin qu'elle ne renvoie qu'un unique dictionnaire dont la clé est l'année (**chaine**) et la valeur associée sera l'effectif transformé en **integer**.<br/>  \n",
    "\n",
    "Testez alors pour ALICE et quelques prénoms de votre choix."
   ]
  },
  {
   "cell_type": "code",
   "execution_count": 5,
   "metadata": {},
   "outputs": [
    {
     "name": "stdout",
     "output_type": "stream",
     "text": [
      "ERIC :  {'1961': 17893, '1962': 17907, '1963': 20048, '1964': 19968, '1965': 20140, '1966': 18201, '1967': 16714, '1968': 16255}\n"
     ]
    }
   ],
   "source": [
    "def annees_succes2(liste1,prenom,eff_min):\n",
    "    dico={}\n",
    "    for ligne in liste1:\n",
    "        if ligne['preusuel'] == prenom and int(ligne['nombre']) > eff_min:\n",
    "            dico[ligne['annais']]=int(ligne['nombre'])\n",
    "    return dico\n",
    "Top_ERIC=annees_succes2(prenoms,'ERIC',15000)\n",
    "print('ERIC : ',Top_ERIC)"
   ]
  },
  {
   "cell_type": "code",
   "execution_count": 6,
   "metadata": {},
   "outputs": [
    {
     "name": "stdout",
     "output_type": "stream",
     "text": [
      "ALICE :  {'1901': 3150, '1902': 3188, '1903': 3283, '1904': 3357, '1905': 3516, '1906': 3639, '1907': 3512, '1908': 3745, '1909': 3700, '1910': 3599, '1911': 3385, '1912': 3433, '1913': 3514, '1914': 3248, '1920': 3460, '1921': 3363, '1922': 3092, '2014': 3240, '2015': 3337, '2016': 3488, '2017': 3385, '2018': 3313}\n"
     ]
    }
   ],
   "source": [
    "Top_ALICE=annees_succes2(prenoms,'ALICE',3000)\n",
    "print('ALICE : ',Top_ALICE)"
   ]
  },
  {
   "cell_type": "code",
   "execution_count": 7,
   "metadata": {},
   "outputs": [
    {
     "name": "stdout",
     "output_type": "stream",
     "text": [
      "BOB :  {'1989': 12, '1991': 13, '1992': 18, '1993': 15, '1994': 17, '1996': 14}\n"
     ]
    }
   ],
   "source": [
    "print('BOB : ',annees_succes2(prenoms,'BOB',10))"
   ]
  },
  {
   "cell_type": "markdown",
   "metadata": {},
   "source": [
    "## 3. Les prénoms les plus fréquents d'une année"
   ]
  },
  {
   "cell_type": "markdown",
   "metadata": {},
   "source": [
    "**EXERCICE :** Créez maintenant un nouvelle fonction `def top_prenom(liste1,annee,eff_min)` qui renvoie la liste des prénoms dont les naissances par an dépassent `eff_min` pour une année donnée. <br/> Testez pour 2003 et un `eff_min` de 5000, puis pour 2018 et 1970 avec le même effectif minimum. <br/> \n",
    "Que constatez-vous ?  <br/>\n",
    "Adaptez le nombre minimum de naissances pour obtenir sur ces deux années des listes d'une dizaine de prénoms."
   ]
  },
  {
   "cell_type": "code",
   "execution_count": 8,
   "metadata": {},
   "outputs": [
    {
     "data": {
      "text/plain": [
       "[{'sexe': '1', 'preusuel': 'ALEXANDRE', 'annais': '2003', 'nombre': '5102'},\n",
       " {'sexe': '1', 'preusuel': 'ENZO', 'annais': '2003', 'nombre': '6747'},\n",
       " {'sexe': '1', 'preusuel': 'HUGO', 'annais': '2003', 'nombre': '7388'},\n",
       " {'sexe': '1', 'preusuel': 'LUCAS', 'annais': '2003', 'nombre': '8290'},\n",
       " {'sexe': '1', 'preusuel': 'MAXIME', 'annais': '2003', 'nombre': '5260'},\n",
       " {'sexe': '1', 'preusuel': 'THOMAS', 'annais': '2003', 'nombre': '6856'},\n",
       " {'sexe': '1', 'preusuel': 'THÉO', 'annais': '2003', 'nombre': '7858'},\n",
       " {'sexe': '2', 'preusuel': 'CAMILLE', 'annais': '2003', 'nombre': '5370'},\n",
       " {'sexe': '2', 'preusuel': 'CHLOÉ', 'annais': '2003', 'nombre': '5801'},\n",
       " {'sexe': '2', 'preusuel': 'EMMA', 'annais': '2003', 'nombre': '6231'},\n",
       " {'sexe': '2', 'preusuel': 'LÉA', 'annais': '2003', 'nombre': '8986'},\n",
       " {'sexe': '2', 'preusuel': 'MANON', 'annais': '2003', 'nombre': '6923'}]"
      ]
     },
     "execution_count": 8,
     "metadata": {},
     "output_type": "execute_result"
    }
   ],
   "source": [
    "def top_prenom(liste1,annee,eff_min):\n",
    "    liste2=[]\n",
    "    for ligne in liste1:\n",
    "        if int(ligne['annais'])==annee and int(ligne['nombre'])>eff_min:\n",
    "            liste2.append(ligne)\n",
    "    return liste2\n",
    "top_prenom(prenoms,2003,5000)"
   ]
  },
  {
   "cell_type": "markdown",
   "metadata": {},
   "source": [
    "Modifiez cette nouvelle fonction pour simplifier le résultat produit.<br/> La fonction `def top_prenom2` doit renvoyer un unique formulaire dont la clé est le tuple (sexe,prénom) et la valeur associée l'effectif transformé en **integer**.  <br/><br/>\n",
    "On retrouvera ainsi `('2','CAMILLE'):5370` comme élément du dictionnaire obtenu par l'appel  `top_prenom2(prenoms,2003,5000)`"
   ]
  },
  {
   "cell_type": "code",
   "execution_count": 9,
   "metadata": {},
   "outputs": [
    {
     "data": {
      "text/plain": [
       "{('1', 'ALEXANDRE'): 5102,\n",
       " ('1', 'ENZO'): 6747,\n",
       " ('1', 'HUGO'): 7388,\n",
       " ('1', 'LUCAS'): 8290,\n",
       " ('1', 'MAXIME'): 5260,\n",
       " ('1', 'THOMAS'): 6856,\n",
       " ('1', 'THÉO'): 7858,\n",
       " ('2', 'CAMILLE'): 5370,\n",
       " ('2', 'CHLOÉ'): 5801,\n",
       " ('2', 'EMMA'): 6231,\n",
       " ('2', 'LÉA'): 8986,\n",
       " ('2', 'MANON'): 6923}"
      ]
     },
     "execution_count": 9,
     "metadata": {},
     "output_type": "execute_result"
    }
   ],
   "source": [
    "def top_prenom2(liste1,annee,eff_min):\n",
    "    dico2={}\n",
    "    for ligne in liste1:\n",
    "        if int(ligne['annais'])==annee and int(ligne['nombre'])>eff_min:\n",
    "            sexe=ligne['sexe']\n",
    "            prenom=ligne['preusuel']\n",
    "            eff=int(ligne['nombre'])\n",
    "            dico2[(sexe,prenom)]=eff\n",
    "    return dico2\n",
    "top_prenom2(prenoms,2003,5000)"
   ]
  },
  {
   "cell_type": "code",
   "execution_count": 10,
   "metadata": {},
   "outputs": [
    {
     "name": "stdout",
     "output_type": "stream",
     "text": [
      "1 seul prénom a été déclaré plus de 5000 fois en 2018\n",
      "12 prénoms plus de 3500 fois en 2018\n"
     ]
    },
    {
     "data": {
      "text/plain": [
       "{('1', 'ADAM'): 3897,\n",
       " ('1', 'ARTHUR'): 3755,\n",
       " ('1', 'GABRIEL'): 5419,\n",
       " ('1', 'HUGO'): 3686,\n",
       " ('1', 'JULES'): 3698,\n",
       " ('1', 'LOUIS'): 4415,\n",
       " ('1', 'LUCAS'): 3979,\n",
       " ('1', 'LÉO'): 4446,\n",
       " ('1', 'RAPHAËL'): 4591,\n",
       " ('2', 'EMMA'): 4369,\n",
       " ('2', 'JADE'): 3977,\n",
       " ('2', 'LOUISE'): 3766}"
      ]
     },
     "execution_count": 10,
     "metadata": {},
     "output_type": "execute_result"
    }
   ],
   "source": [
    "print(len(top_prenom2(prenoms,2018,5000)),'seul prénom a été déclaré plus de 5000 fois en 2018')\n",
    "print(len(top_prenom2(prenoms,2018,3500)),'prénoms plus de 3500 fois en 2018')\n",
    "top_prenom2(prenoms,2018,3500)"
   ]
  },
  {
   "cell_type": "code",
   "execution_count": 11,
   "metadata": {},
   "outputs": [
    {
     "name": "stdout",
     "output_type": "stream",
     "text": [
      "41 prénoms ont été déclarés plus de 5000 fois en 1970\n",
      "et 11 prénoms plus de 14000 fois en 1970 !\n"
     ]
    },
    {
     "data": {
      "text/plain": [
       "{('1', 'CHRISTOPHE'): 21853,\n",
       " ('1', 'DAVID'): 18460,\n",
       " ('1', 'FRÉDÉRIC'): 14197,\n",
       " ('1', 'LAURENT'): 19957,\n",
       " ('1', 'OLIVIER'): 14459,\n",
       " ('1', 'PHILIPPE'): 14143,\n",
       " ('1', 'STÉPHANE'): 21796,\n",
       " ('2', 'ISABELLE'): 16543,\n",
       " ('2', 'NATHALIE'): 26216,\n",
       " ('2', 'SANDRINE'): 18045,\n",
       " ('2', 'VALÉRIE'): 19388}"
      ]
     },
     "execution_count": 11,
     "metadata": {},
     "output_type": "execute_result"
    }
   ],
   "source": [
    "print(len(top_prenom2(prenoms,1970,5000)),'prénoms ont été déclarés plus de 5000 fois en 1970')\n",
    "print('et',len(top_prenom2(prenoms,1970,14000)),'prénoms plus de 14000 fois en 1970 !')\n",
    "top_prenom2(prenoms,1970,14000)"
   ]
  },
  {
   "cell_type": "markdown",
   "metadata": {},
   "source": [
    "## 4. Etudes graphiques de l'évolution des prénoms "
   ]
  },
  {
   "cell_type": "markdown",
   "metadata": {},
   "source": [
    "### 4.1 Nombre total de déclarations par an \n",
    "Nous allons tout d'abord construire un dictionnaire `dico_nb_naiss`  dont chaque clé sera une année (de 1900 à 2018) et sa valeur associée le nombre total d'enfants déclarés pour l'année. <br/> \n",
    "Ainsi `dico_nb_naiss['2018']` doit donner 682754. <br/><br/> \n",
    "**Exercice** Complétez le code ci-dessous"
   ]
  },
  {
   "cell_type": "code",
   "execution_count": 12,
   "metadata": {},
   "outputs": [],
   "source": [
    "dico_nb_naiss = {}\n",
    "for ligne in prenoms:\n",
    "    cle=ligne['annais']\n",
    "    if cle in dico_nb_naiss:\n",
    "        dico_nb_naiss[cle] = dico_nb_naiss[cle] + int(ligne['nombre'])\n",
    "    else:\n",
    "        dico_nb_naiss[cle] = int(ligne['nombre'])"
   ]
  },
  {
   "cell_type": "markdown",
   "metadata": {},
   "source": [
    "Puis tester :"
   ]
  },
  {
   "cell_type": "code",
   "execution_count": 13,
   "metadata": {},
   "outputs": [
    {
     "name": "stdout",
     "output_type": "stream",
     "text": [
      "682754 enfants ont été déclarés en 2018\n"
     ]
    }
   ],
   "source": [
    "n = dico_nb_naiss['2018']\n",
    "print(n ,'enfants ont été déclarés en 2018')"
   ]
  },
  {
   "cell_type": "markdown",
   "metadata": {},
   "source": [
    "**Exercice :** Affichez le nombre d'enfants déclarés en 1900,1910,1920 ... jusqu'en 2010."
   ]
  },
  {
   "cell_type": "code",
   "execution_count": 14,
   "metadata": {},
   "outputs": [
    {
     "name": "stdout",
     "output_type": "stream",
     "text": [
      "412056 déclarations de naissance en  1900\n",
      "531776 déclarations de naissance en  1910\n",
      "645089 déclarations de naissance en  1920\n",
      "651909 déclarations de naissance en  1930\n",
      "510886 déclarations de naissance en  1940\n",
      "880557 déclarations de naissance en  1950\n",
      "843528 déclarations de naissance en  1960\n",
      "868311 déclarations de naissance en  1970\n",
      "803167 déclarations de naissance en  1980\n",
      "765665 déclarations de naissance en  1990\n",
      "773198 déclarations de naissance en  2000\n",
      "776467 déclarations de naissance en  2010\n"
     ]
    }
   ],
   "source": [
    "for an in range(1900,2020,10):\n",
    "    total = dico_nb_naiss[str(an)]\n",
    "    print(total,'déclarations de naissance en ',an)"
   ]
  },
  {
   "cell_type": "markdown",
   "metadata": {},
   "source": [
    "**Exercice :** Construisez la courbe du nombre de naissances en fonction de l'année.  \n",
    "On importera tout d'abord le package `matplotlib` "
   ]
  },
  {
   "cell_type": "code",
   "execution_count": 15,
   "metadata": {},
   "outputs": [],
   "source": [
    "%matplotlib inline\n",
    "import matplotlib.pyplot as plt"
   ]
  },
  {
   "cell_type": "markdown",
   "metadata": {},
   "source": [
    "Un premier graphique obtenu avec la méthode bar en parcourant le dictionnaire par clé et valeur puis en les rangeant dans des listes d'abscisses et ordonnées . "
   ]
  },
  {
   "cell_type": "code",
   "execution_count": 16,
   "metadata": {},
   "outputs": [
    {
     "data": {
      "text/plain": [
       "<BarContainer object of 119 artists>"
      ]
     },
     "execution_count": 16,
     "metadata": {},
     "output_type": "execute_result"
    },
    {
     "data": {
      "image/png": "[encoded data removed]",
      "text/plain": [
       "<Figure size 432x288 with 1 Axes>"
      ]
     },
     "metadata": {
      "needs_background": "light"
     },
     "output_type": "display_data"
    }
   ],
   "source": [
    "x=[]\n",
    "y=[]\n",
    "plt.axis([1900, 2018, 200000, 1000000])\n",
    "for (an,total) in dico_nb_naiss.items():\n",
    "    x.append(int(an))\n",
    "    y.append(int(total))\n",
    "plt.bar(x , y)"
   ]
  },
  {
   "cell_type": "markdown",
   "metadata": {},
   "source": [
    "Pour obtenir un nuage de points reliés c'est avec la méthode `plot` mais il faut auparavant ordonner les clés du dictionnaire avec le tri intégré `sort`  "
   ]
  },
  {
   "cell_type": "code",
   "execution_count": 17,
   "metadata": {},
   "outputs": [],
   "source": [
    "liste_nb_naiss=sorted(dico_nb_naiss.items(), key=lambda t: t[0])"
   ]
  },
  {
   "cell_type": "markdown",
   "metadata": {},
   "source": [
    "On obtient ainsi une liste que l'on peut ensuite itérer pour récupérer la liste des abscisses rangées dans l'ordre croissant. "
   ]
  },
  {
   "cell_type": "code",
   "execution_count": 18,
   "metadata": {},
   "outputs": [
    {
     "data": {
      "text/plain": [
       "[<matplotlib.lines.Line2D at 0x1da9a8d74a8>]"
      ]
     },
     "execution_count": 18,
     "metadata": {},
     "output_type": "execute_result"
    },
    {
     "data": {
      "image/png": "[encoded data removed]",
      "text/plain": [
       "<Figure size 432x288 with 1 Axes>"
      ]
     },
     "metadata": {
      "needs_background": "light"
     },
     "output_type": "display_data"
    }
   ],
   "source": [
    "liste_nb_naiss=sorted(dico_nb_naiss.items(), key=lambda t: t[0])\n",
    "x=[]\n",
    "y=[]\n",
    "plt.axis([1900, 2018, 200000, 1000000])\n",
    "for elt in liste_nb_naiss:\n",
    "    x.append(int(elt[0]))\n",
    "    y.append(elt[1])\n",
    "plt.plot(x , y, linewidth = 2)"
   ]
  },
  {
   "cell_type": "markdown",
   "metadata": {},
   "source": [
    "Expliquez les 2 baisses importantes avant les années 50 et observez la baisse régulière des naissances depuis 2010"
   ]
  },
  {
   "cell_type": "markdown",
   "metadata": {},
   "source": [
    "### 4.2. Courbe des effectifs d'un prénom en fonction des années"
   ]
  },
  {
   "cell_type": "markdown",
   "metadata": {},
   "source": [
    "Il s'agit cette fois de construire, pour un prénom donné, le dictionnaire de toutes ses années d'existence.<br/>\n",
    "On pourra pour cela reprendre et modifier le code de la fonction `annee_succes2` du **2.** et ne pas filtrer sur un effectif minimum.<br/><br/>\n",
    "**Exercice** Construisez une fonction `def annees_prenom(liste1,prenom,sexe)` <br/>\n",
    "qui entre en arguments la liste de dictionnaires des prénoms `prenoms`, le prénom à construire et la valeur numérique 1 ou 2<br/>\n",
    "et qui renvoie le dictionnaire contenant les couples `clé:valeur` avec pour clé toutes les annees d'existence du prénom et en valeur associée les effectifs correspondants.<br/>\n",
    "En testant avec `annees_prenom(prenoms,'ERIC',1)` le dictionnaire obtenu contient 119 valeurs dont `'1900':14` et `'2018':88`"
   ]
  },
  {
   "cell_type": "code",
   "execution_count": 19,
   "metadata": {},
   "outputs": [
    {
     "name": "stdout",
     "output_type": "stream",
     "text": [
      "ERIC :  {'1900': 14, '1901': 23, '1902': 26, '1903': 19, '1904': 19, '1905': 36, '1906': 24, '1907': 36, '1908': 23, '1909': 60, '1910': 51, '1911': 58, '1912': 46, '1913': 59, '1914': 57, '1915': 35, '1916': 38, '1917': 30, '1918': 40, '1919': 31, '1920': 16, '1921': 20, '1922': 18, '1923': 20, '1924': 29, '1925': 31, '1926': 24, '1927': 32, '1928': 36, '1929': 51, '1930': 47, '1931': 45, '1932': 58, '1933': 64, '1934': 66, '1935': 77, '1936': 86, '1937': 89, '1938': 147, '1939': 123, '1940': 150, '1941': 177, '1942': 205, '1943': 215, '1944': 226, '1945': 260, '1946': 381, '1947': 435, '1948': 568, '1949': 675, '1950': 831, '1951': 1003, '1952': 1477, '1953': 1910, '1954': 2741, '1955': 3151, '1956': 3903, '1957': 6261, '1958': 6935, '1959': 8837, '1960': 13962, '1961': 17893, '1962': 17907, '1963': 20048, '1964': 19968, '1965': 20140, '1966': 18201, '1967': 16714, '1968': 16255, '1969': 14086, '1970': 12473, '1971': 11529, '1972': 11540, '1973': 9797, '1974': 7890, '1975': 5193, '1976': 4882, '1977': 4295, '1978': 3819, '1979': 3497, '1980': 3082, '1981': 2618, '1982': 2287, '1983': 1879, '1984': 1682, '1985': 1496, '1986': 1218, '1987': 1163, '1988': 1128, '1989': 935, '1990': 808, '1991': 707, '1992': 602, '1993': 549, '1994': 463, '1995': 472, '1996': 393, '1997': 334, '1998': 353, '1999': 337, '2000': 309, '2001': 317, '2002': 303, '2003': 272, '2004': 230, '2005': 198, '2006': 201, '2007': 172, '2008': 150, '2009': 147, '2010': 141, '2011': 129, '2012': 132, '2013': 88, '2014': 125, '2015': 99, '2016': 97, '2017': 101, '2018': 88}\n",
      "119  années de présence pour ce prénom\n"
     ]
    }
   ],
   "source": [
    "def annees_prenom(liste1,prenom,sexe):\n",
    "    dico={}\n",
    "    for ligne in liste1:\n",
    "        if ligne['preusuel'] == prenom and int(ligne['sexe']) == sexe:\n",
    "            dico[ligne['annais']]=int(ligne['nombre'])\n",
    "    return dico\n",
    "dico_ERIC=annees_prenom(prenoms,'ERIC',1)\n",
    "print('ERIC : ',dico_ERIC)\n",
    "print(len(dico_ERIC), ' années de présence pour ce prénom')"
   ]
  },
  {
   "cell_type": "markdown",
   "metadata": {},
   "source": [
    "- Construisez ensuite une fonction `def trace_graphe(dico)` qui sera chargée de construire la courbe à partir du dictionnaire obtenu. On pourra reprendre le code de la courbe du **4.1.** en supprimant la ligne de la fenêtre `plt.axis` \n",
    "- Représentez enfin les courbes des prénoms VICTOIRE (fille), MAZARINE et ZINEDINE."
   ]
  },
  {
   "cell_type": "code",
   "execution_count": 20,
   "metadata": {},
   "outputs": [],
   "source": [
    "def trace_graphe(dico2):\n",
    "    liste=sorted(dico2.items(), key=lambda t: t[0])\n",
    "    x=[]\n",
    "    y=[]\n",
    "    for elt in liste:\n",
    "        x.append(int(elt[0]))\n",
    "        y.append(elt[1])\n",
    "    plt.plot(x , y, linewidth = 2)"
   ]
  },
  {
   "cell_type": "code",
   "execution_count": 21,
   "metadata": {},
   "outputs": [
    {
     "data": {
      "image/png": "[encoded data removed]",
      "text/plain": [
       "<Figure size 432x288 with 1 Axes>"
      ]
     },
     "metadata": {
      "needs_background": "light"
     },
     "output_type": "display_data"
    }
   ],
   "source": [
    "trace_graphe(dico_ERIC)"
   ]
  },
  {
   "cell_type": "code",
   "execution_count": 22,
   "metadata": {},
   "outputs": [
    {
     "data": {
      "image/png": "[encoded data removed]",
      "text/plain": [
       "<Figure size 432x288 with 1 Axes>"
      ]
     },
     "metadata": {
      "needs_background": "light"
     },
     "output_type": "display_data"
    }
   ],
   "source": [
    "dico_VICTOIRE=annees_prenom(prenoms,'VICTOIRE',2)\n",
    "trace_graphe(dico_VICTOIRE)"
   ]
  },
  {
   "cell_type": "code",
   "execution_count": 23,
   "metadata": {},
   "outputs": [
    {
     "data": {
      "image/png": "[encoded data removed]",
      "text/plain": [
       "<Figure size 432x288 with 1 Axes>"
      ]
     },
     "metadata": {
      "needs_background": "light"
     },
     "output_type": "display_data"
    }
   ],
   "source": [
    "dico_MAZARINE=annees_prenom(prenoms,'MAZARINE',2)\n",
    "trace_graphe(dico_MAZARINE)"
   ]
  },
  {
   "cell_type": "code",
   "execution_count": 24,
   "metadata": {},
   "outputs": [
    {
     "data": {
      "image/png": "[encoded data removed]",
      "text/plain": [
       "<Figure size 432x288 with 1 Axes>"
      ]
     },
     "metadata": {
      "needs_background": "light"
     },
     "output_type": "display_data"
    }
   ],
   "source": [
    "dico_ZINEDINE=annees_prenom(prenoms,'ZINEDINE',1)\n",
    "trace_graphe(dico_ZINEDINE)"
   ]
  },
  {
   "cell_type": "code",
   "execution_count": null,
   "metadata": {},
   "outputs": [],
   "source": []
  }
 ],
 "metadata": {
  "kernelspec": {
   "display_name": "Python 3",
   "language": "python",
   "name": "python3"
  },
  "language_info": {
   "codemirror_mode": {
    "name": "ipython",
    "version": 3
   },
   "file_extension": ".py",
   "mimetype": "text/x-python",
   "name": "python",
   "nbconvert_exporter": "python",
   "pygments_lexer": "ipython3",
   "version": "3.7.0"
  }
 },
 "nbformat": 4,
 "nbformat_minor": 2
}
