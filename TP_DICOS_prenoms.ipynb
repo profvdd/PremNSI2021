{
 "cells": [
  {
   "cell_type": "markdown",
   "metadata": {},
   "source": [
    "# TP Les prénoms de 1900 à 2018"
   ]
  },
  {
   "cell_type": "markdown",
   "metadata": {},
   "source": [
    "## 1. Importation d'un fichier csv\n",
    "\n",
    "On peut récupérer sur le site de l'INSEE de nombreux fichiers de données en format .txt ou .csv  \n",
    "Nous utiliserons dans ce TP le fichier `nat2018.csv` qui contient des données sur les prénoms attribués aux enfants nés en France entre 1900 et 2018. Le code ci-dessous permet de récupérer dans la variable `liste_2018`, **liste de dictionnaires**, les données contenues dans le fichier csv.  <br/><br/>\n",
    "Exécutez ce code et interprétez les différentes lignes."
   ]
  },
  {
   "cell_type": "code",
   "execution_count": null,
   "metadata": {},
   "outputs": [],
   "source": [
    "import csv\n",
    "csv_2018 = open('nat2018.csv',\"r\",encoding='utf-8-sig')\n",
    "naissances = csv.DictReader(csv_2018, delimiter = \";\")\n",
    "liste_2018 = []\n",
    "for ligne in naissances:\n",
    "    dico={}\n",
    "    for cle,valeur in ligne.items():\n",
    "        dico[cle] = valeur\n",
    "    liste_2018.append(dico)\n",
    "csv_2018.close()\n",
    "liste_2018[:10]"
   ]
  },
  {
   "cell_type": "markdown",
   "metadata": {},
   "source": [
    "Remarquez que certaines lignes contiennent la chaine `'XXXX'` à la place d'une chaine année. C'est un choix de l'INSEE de regrouper les années pour lesquelles le prénom n'a été donné qu'une ou deux fois par an. \n",
    "Pour la suite de ce TP on ne tiendra pas compte de ces lignes ainsi que de celles indiquant `'_PRENOMS_RARES'` dans la colonne des prénoms. <br/><br/>\n",
    "Procédez à un nettoyage de cette liste en supprimant toutes les lignes (dictionnaires) contenant soit la chaine `'XXXX'` soit la chaine `'_PRENOMS_RARES'`. <br/><br/>\n",
    "**Exercice :** Créez pour cela une nouvelle liste `prenoms` (`liste_2018` nettoyée) en complétant le code ci-dessous : "
   ]
  },
  {
   "cell_type": "code",
   "execution_count": null,
   "metadata": {},
   "outputs": [],
   "source": [
    "prenoms = []\n",
    "for ligne in    :\n",
    "    if ligne[  ]!=  and ligne[   ]!=   :\n",
    "        prenoms.append(ligne)"
   ]
  },
  {
   "cell_type": "markdown",
   "metadata": {},
   "source": [
    "- Affichez les 15 premières lignes de cette nouvelle liste `prenoms`, la dernière ligne affichée doit indiquer les naissances de 4 garçons prénommés AADIL en 1974.\n",
    "- Vérifiez que la liste contient bien 601 223 lignes.  "
   ]
  },
  {
   "cell_type": "code",
   "execution_count": null,
   "metadata": {},
   "outputs": [],
   "source": [
    "\n"
   ]
  },
  {
   "cell_type": "markdown",
   "metadata": {},
   "source": [
    "## 2. Années de succes d'un prénom"
   ]
  },
  {
   "cell_type": "markdown",
   "metadata": {},
   "source": [
    "**EXERCICE :** Ecrivez une fonction `def annees_succes(liste1,prenom,eff_min)` produisant l'affichage des dictionnaires de `liste1` pour un `prenom` déclaré au moins `eff_min` par an. (Attention au type des années) <br/> \n",
    "Testez avec `annees_succes(prenoms,'ERIC',15000)` puis pour `ALICE` et avec quelques prénoms de votre choix. "
   ]
  },
  {
   "cell_type": "code",
   "execution_count": null,
   "metadata": {},
   "outputs": [],
   "source": [
    "def annees_succes(liste1,prenom,eff_min):\n",
    "    \n",
    "    \n",
    "    \n",
    "    \n",
    "    \n",
    "    \n",
    "    \n",
    "    \n",
    "annees_succes(prenoms,'ERIC',15000)"
   ]
  },
  {
   "cell_type": "markdown",
   "metadata": {},
   "source": [
    "Modifiez la fonction afin qu'elle ne renvoie qu'un unique dictionnaire dont la clé est l'année (**chaine**) et la valeur associée sera l'effectif transformé en **integer**.<br/>  \n",
    "\n",
    "Testez alors pour ALICE et quelques prénoms de votre choix."
   ]
  },
  {
   "cell_type": "code",
   "execution_count": null,
   "metadata": {},
   "outputs": [],
   "source": [
    "def annees_succes2(liste1,prenom,eff_min):\n",
    "    dico={}\n",
    "    \n",
    "    \n",
    "    \n",
    "    \n",
    "    return dico\n",
    "\n",
    "\n",
    "Top_ERIC=annees_succes2(prenoms,'ERIC',15000)\n",
    "print('ERIC : ',Top_ERIC)"
   ]
  },
  {
   "cell_type": "code",
   "execution_count": null,
   "metadata": {},
   "outputs": [],
   "source": [
    "Top_ALICE=annees_succes2(prenoms,'ALICE',3000)\n",
    "print('ALICE : ',Top_ALICE)"
   ]
  },
  {
   "cell_type": "code",
   "execution_count": null,
   "metadata": {},
   "outputs": [],
   "source": [
    "print('BOB : ',annees_succes2(prenoms,'BOB',10))"
   ]
  },
  {
   "cell_type": "markdown",
   "metadata": {},
   "source": [
    "## 3. Les prénoms les plus fréquents d'une année"
   ]
  },
  {
   "cell_type": "markdown",
   "metadata": {},
   "source": [
    "**EXERCICE :** Créez maintenant un nouvelle fonction `def top_prenom(liste1,annee,eff_min)` qui renvoie la liste des prénoms dont les naissances par an dépassent `eff_min` pour une année donnée. <br/> Testez pour 2003 et un `eff_min` de 5000, puis pour 2018 et 1970 avec le même effectif minimum. <br/> \n",
    "Que constatez-vous ?  <br/>\n",
    "Adaptez le nombre minimum de naissances pour obtenir sur ces deux années des listes d'une dizaine de prénoms."
   ]
  },
  {
   "cell_type": "code",
   "execution_count": null,
   "metadata": {},
   "outputs": [],
   "source": [
    "def top_prenom(liste1,annee,eff_min):\n",
    "    liste2=[]\n",
    "    \n",
    "    \n",
    "    \n",
    "    \n",
    "    return liste2\n",
    "\n",
    "\n",
    "top_prenom(prenoms,2003,5000)"
   ]
  },
  {
   "cell_type": "markdown",
   "metadata": {},
   "source": [
    "Modifiez cette nouvelle fonction pour simplifier le résultat produit.<br/> La fonction `def top_prenom2` doit renvoyer un unique formulaire dont la clé est le tuple (sexe,prénom) et la valeur associée l'effectif transformé en **integer**.  <br/><br/>\n",
    "On retrouvera ainsi `('2','CAMILLE'):5370` comme élément du dictionnaire obtenu par l'appel  `top_prenom2(prenoms,2003,5000)`"
   ]
  },
  {
   "cell_type": "code",
   "execution_count": null,
   "metadata": {},
   "outputs": [],
   "source": [
    "def top_prenom2(liste1,annee,eff_min):\n",
    "    dico2={}\n",
    "    \n",
    "    \n",
    "    \n",
    "    \n",
    "    return dico2\n",
    "\n",
    "\n",
    "\n",
    "top_prenom2(prenoms,2003,5000)"
   ]
  },
  {
   "cell_type": "code",
   "execution_count": null,
   "metadata": {},
   "outputs": [],
   "source": [
    "\n",
    "\n"
   ]
  },
  {
   "cell_type": "code",
   "execution_count": null,
   "metadata": {},
   "outputs": [],
   "source": [
    "\n",
    "\n",
    "\n"
   ]
  },
  {
   "cell_type": "markdown",
   "metadata": {},
   "source": [
    "## 4. Etudes graphiques de l'évolution des prénoms "
   ]
  },
  {
   "cell_type": "markdown",
   "metadata": {},
   "source": [
    "### 4.1 Nombre total de déclarations par an \n",
    "Nous allons tout d'abord construire un dictionnaire `dico_nb_naiss`  dont chaque clé sera une année (de 1900 à 2018) et sa valeur associée le nombre total d'enfants déclarés pour l'année. <br/> \n",
    "Ainsi `dico_nb_naiss['2018']` doit donner 682754. <br/><br/> \n",
    "**Exercice** Complétez le code ci-dessous"
   ]
  },
  {
   "cell_type": "code",
   "execution_count": null,
   "metadata": {},
   "outputs": [],
   "source": [
    "dico_nb_naiss = {}\n",
    "for ligne in prenoms:\n",
    "    cle=\n",
    "    if cle in dico_nb_naiss:\n",
    "        dico_nb_naiss[cle] = \n",
    "    else:\n",
    "        dico_nb_naiss[cle] = "
   ]
  },
  {
   "cell_type": "markdown",
   "metadata": {},
   "source": [
    "Puis tester :"
   ]
  },
  {
   "cell_type": "code",
   "execution_count": null,
   "metadata": {},
   "outputs": [],
   "source": [
    "n = dico_nb_naiss['2018']\n",
    "print(n ,'enfants ont été déclarés en 2018')"
   ]
  },
  {
   "cell_type": "markdown",
   "metadata": {},
   "source": [
    "**Exercice :** Affichez le nombre d'enfants déclarés en 1900,1910,1920 ... jusqu'en 2010."
   ]
  },
  {
   "cell_type": "code",
   "execution_count": null,
   "metadata": {},
   "outputs": [],
   "source": [
    "\n",
    "\n",
    "\n"
   ]
  },
  {
   "cell_type": "markdown",
   "metadata": {},
   "source": [
    "**Exercice :** Construisez la courbe du nombre de naissances en fonction de l'année.  \n",
    "On importera tout d'abord le package `matplotlib` "
   ]
  },
  {
   "cell_type": "code",
   "execution_count": null,
   "metadata": {},
   "outputs": [],
   "source": [
    "%matplotlib inline\n",
    "import matplotlib.pyplot as plt"
   ]
  },
  {
   "cell_type": "markdown",
   "metadata": {},
   "source": [
    "Un premier graphique obtenu avec la méthode bar en parcourant le dictionnaire par clé et valeur puis en les rangeant dans des listes d'abscisses et ordonnées . "
   ]
  },
  {
   "cell_type": "code",
   "execution_count": null,
   "metadata": {},
   "outputs": [],
   "source": [
    "x=[]\n",
    "y=[]\n",
    "plt.axis([1900, 2018, 200000, 1000000])\n",
    "for (an,total) in dico_nb_naiss.items():\n",
    "    x.append(int(an))\n",
    "    y.append(int(total))\n",
    "plt.bar(x , y)"
   ]
  },
  {
   "cell_type": "markdown",
   "metadata": {},
   "source": [
    "Pour obtenir un nuage de points reliés c'est avec la méthode `plot` mais il faut auparavant ordonner les clés du dictionnaire avec le tri intégré `sort`  "
   ]
  },
  {
   "cell_type": "code",
   "execution_count": null,
   "metadata": {},
   "outputs": [],
   "source": [
    "liste_nb_naiss=sorted(dico_nb_naiss.items(), key=lambda t: t[0])"
   ]
  },
  {
   "cell_type": "markdown",
   "metadata": {},
   "source": [
    "On obtient ainsi une liste que l'on peut ensuite itérer pour récupérer la liste des abscisses rangées dans l'ordre croissant. "
   ]
  },
  {
   "cell_type": "code",
   "execution_count": null,
   "metadata": {},
   "outputs": [],
   "source": [
    "liste_nb_naiss=sorted(dico_nb_naiss.items(), key=lambda t: t[0])\n",
    "x=[]\n",
    "y=[]\n",
    "plt.axis([1900, 2018, 200000, 1000000])\n",
    "for elt in liste_nb_naiss:\n",
    "    x.append(int(elt[0]))\n",
    "    y.append(elt[1])\n",
    "plt.plot(x , y, linewidth = 2)"
   ]
  },
  {
   "cell_type": "markdown",
   "metadata": {},
   "source": [
    "Expliquez les 2 baisses importantes avant les années 50 et observez la baisse régulière des naissances depuis 2010"
   ]
  },
  {
   "cell_type": "markdown",
   "metadata": {},
   "source": []
  },
  {
   "cell_type": "markdown",
   "metadata": {},
   "source": [
    "### 4.2. Courbe des effectifs d'un prénom en fonction des années"
   ]
  },
  {
   "cell_type": "markdown",
   "metadata": {},
   "source": [
    "Il s'agit cette fois de construire, pour un prénom donné, le dictionnaire de toutes ses années d'existence.<br/>\n",
    "On pourra pour cela reprendre et modifier le code de la fonction `annee_succes2` du **2.** et ne pas filtrer sur un effectif minimum.<br/><br/>\n",
    "**Exercice** Construisez une fonction `def annees_prenom(liste1,prenom,sexe)` <br/>\n",
    "qui entre en arguments la liste de dictionnaires des prénoms `prenoms`, le prénom à construire et la valeur numérique 1 ou 2<br/>\n",
    "et qui renvoie le dictionnaire contenant les couples `clé:valeur` avec pour clé toutes les annees d'existence du prénom et en valeur associée les effectifs correspondants.<br/>\n",
    "En testant avec `annees_prenom(prenoms,'ERIC',1)` le dictionnaire obtenu contient 119 valeurs dont `'1900':14` et `'2018':88`"
   ]
  },
  {
   "cell_type": "code",
   "execution_count": null,
   "metadata": {},
   "outputs": [],
   "source": [
    "def annees_prenom(liste1,prenom,sexe):\n",
    "    dico={}\n",
    "    \n",
    "    \n",
    "    \n",
    "    return dico\n",
    "\n",
    "\n",
    "dico_ERIC=annees_prenom(prenoms,'ERIC',1)\n",
    "print('ERIC : ',dico_ERIC)\n",
    "print(len(dico_ERIC), ' années de présence pour ce prénom')"
   ]
  },
  {
   "cell_type": "markdown",
   "metadata": {},
   "source": [
    "- Construisez ensuite une fonction `def trace_graphe(dico)` qui sera chargée de construire la courbe à partir du dictionnaire obtenu. On pourra reprendre le code de la courbe du **4.1.** en supprimant la ligne de la fenêtre `plt.axis` \n",
    "- Représentez enfin les courbes des prénoms VICTOIRE (fille), MAZARINE et ZINEDINE."
   ]
  },
  {
   "cell_type": "code",
   "execution_count": null,
   "metadata": {},
   "outputs": [],
   "source": [
    "def trace_graphe(dico2):\n",
    "    liste=sorted(dico2.items(), key=lambda t: t[0])\n",
    "    x=[]\n",
    "    y=[]\n",
    "    \n",
    "    \n",
    "    \n",
    "    "
   ]
  },
  {
   "cell_type": "code",
   "execution_count": null,
   "metadata": {},
   "outputs": [],
   "source": [
    "trace_graphe(dico_ERIC)"
   ]
  },
  {
   "cell_type": "code",
   "execution_count": null,
   "metadata": {},
   "outputs": [],
   "source": [
    "dico_VICTOIRE=annees_prenom(prenoms,'VICTOIRE',2)\n",
    "trace_graphe(dico_VICTOIRE)"
   ]
  },
  {
   "cell_type": "code",
   "execution_count": null,
   "metadata": {},
   "outputs": [],
   "source": [
    "dico_MAZARINE=\n",
    "trace_graphe(    )"
   ]
  },
  {
   "cell_type": "code",
   "execution_count": null,
   "metadata": {},
   "outputs": [],
   "source": [
    "dico_ZINEDINE=\n",
    "trace_graphe(     )"
   ]
  },
  {
   "cell_type": "code",
   "execution_count": null,
   "metadata": {},
   "outputs": [],
   "source": []
  }
 ],
 "metadata": {
  "kernelspec": {
   "display_name": "Python 3",
   "language": "python",
   "name": "python3"
  },
  "language_info": {
   "codemirror_mode": {
    "name": "ipython",
    "version": 3
   },
   "file_extension": ".py",
   "mimetype": "text/x-python",
   "name": "python",
   "nbconvert_exporter": "python",
   "pygments_lexer": "ipython3",
   "version": "3.7.0"
  }
 },
 "nbformat": 4,
 "nbformat_minor": 2
}
