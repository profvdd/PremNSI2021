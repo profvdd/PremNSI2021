{
 "cells": [
  {
   "cell_type": "markdown",
   "metadata": {
    "nbgrader": {
     "grade": false,
     "grade_id": "cell-ca192147bad3db12",
     "locked": true,
     "schema_version": 1,
     "solution": false
    }
   },
   "source": [
    "# TD - Fonctions logiques\n",
    "## 1. Utilisation des fonctions logiques en python\n",
    "Python posséde les opérateurs suivants:\n",
    "\n",
    "|opérateur|symbolique|syntaxe Python|\n",
    "|:-|:-:|-:|\n",
    "|NON|$\\overline{a}$|`not(a)`|\n",
    "|ET|$a\\times b$|`a and b`|\n",
    "|OU|$a + b$|`a or b`|\n",
    "|XOR|$a\\oplus b$|non implémentée|\n",
    "\n",
    "Quelques exemples :"
   ]
  },
  {
   "cell_type": "code",
   "execution_count": null,
   "metadata": {
    "nbgrader": {
     "grade": false,
     "grade_id": "cell-df37d8f4e73c6285",
     "locked": true,
     "schema_version": 1,
     "solution": false
    }
   },
   "outputs": [],
   "source": [
    "a = True\n",
    "b = False\n",
    "print(\"1 : \", not(a))\n",
    "print(\"2 : \", a and b)\n",
    "print(\"3 : \", a or b)"
   ]
  },
  {
   "cell_type": "markdown",
   "metadata": {
    "nbgrader": {
     "grade": false,
     "grade_id": "cell-b91e986f442c4e69",
     "locked": true,
     "schema_version": 1,
     "solution": false
    }
   },
   "source": [
    "Cependant, pour utiliser le OU EXCLUSIF (xor) , il faut utiliser soit une bibliothèque complémentaire, soit définir soit même sa fonction.  \n",
    "C'est donc ce que vous allez devoir faire : definir une fonction `xor(a,b)` qui prend deux boolèns en arguments et renvoie un boolèen correspondant à la table de vérité du XOR :\n",
    "\n",
    "|  a  |   b   |   S   |\n",
    "|:-:|:-:|:-:|\n",
    "|0|0|0|\n",
    "|0|1|1|\n",
    "|1|0|1|\n",
    "|1|1|0|\n",
    "\n",
    "On peut pour cela utiliser la relation $a\\oplus b = (a\\times \\overline{b}) + ( \\overline{a} \\times b)$"
   ]
  },
  {
   "cell_type": "code",
   "execution_count": null,
   "metadata": {
    "nbgrader": {
     "grade": false,
     "grade_id": "cell-ab182df9e6ff4415",
     "locked": false,
     "schema_version": 1,
     "solution": true
    }
   },
   "outputs": [],
   "source": [
    "def XOR(a,b) :\n",
    "    ### votre code ici\n",
    "    x = \n",
    "    return x"
   ]
  },
  {
   "cell_type": "markdown",
   "metadata": {
    "nbgrader": {
     "grade": false,
     "grade_id": "cell-6b4cdee3aeedcdc5",
     "locked": true,
     "schema_version": 1,
     "solution": false
    }
   },
   "source": [
    "Testez maintenant votre fonction en vérifiant qu'elle réponde bien à la table de vérité du OU EXCLUSIF.  \n",
    "Le test de la fonction sera réussi si aucune erreur n'apparait après l'éxécution du code ci-dessous.  \n",
    "Nous reviendrons plus tard en cours sur ces **tests unitaires**, remarquez en attendant les booléens utilisés dans les 4 tests `assert` "
   ]
  },
  {
   "cell_type": "code",
   "execution_count": null,
   "metadata": {
    "nbgrader": {
     "grade": true,
     "grade_id": "cell-063b493fafc28407",
     "locked": true,
     "points": 1,
     "schema_version": 1,
     "solution": false
    }
   },
   "outputs": [],
   "source": [
    "assert XOR(False,False)==False\n",
    "assert XOR(False,True)==True\n",
    "assert XOR(True,False)==True\n",
    "assert XOR(True,True)==False"
   ]
  },
  {
   "cell_type": "markdown",
   "metadata": {
    "nbgrader": {
     "grade": false,
     "grade_id": "cell-40fbf0dc589d90ec",
     "locked": true,
     "schema_version": 1,
     "solution": false
    }
   },
   "source": [
    "## 2. Egalité de fonctions logiques\n",
    "On souhaite tester une relation logique appelée **théorème de Morgan** qui dit :\n",
    "\n",
    "$$\\overline{A+B}=\\overline{A} \\times \\overline{B}$$\n",
    "\n",
    "Pour cela vous devez créer deux fonctions :\n",
    "- `logique1(A,B)`, qui correspond au premier terme de l'égalité du théorème de Morgan \n",
    "- `logique2(A,B)`, qui correspond au second terme de l'égalité du théorème de Morgan.\n",
    "\n",
    "Les tests unitaires testerons ensuite l'égalité des deux fonctions."
   ]
  },
  {
   "cell_type": "code",
   "execution_count": null,
   "metadata": {
    "nbgrader": {
     "grade": false,
     "grade_id": "cell-4a8e1435b1043fa4",
     "locked": false,
     "schema_version": 1,
     "solution": true
    }
   },
   "outputs": [],
   "source": [
    "def logique1(A,B) :\n",
    "    ### votre code ici\n",
    "    x = \n",
    "    return x \n",
    "    \n",
    "def logique2(A,B) :\n",
    "    ### votre code ici\n",
    "    x = \n",
    "    return x"
   ]
  },
  {
   "cell_type": "markdown",
   "metadata": {
    "nbgrader": {
     "grade": false,
     "grade_id": "cell-c7266fb4cfa19367",
     "locked": true,
     "schema_version": 1,
     "solution": false
    }
   },
   "source": [
    "effectuons maintenant les tests qui permettrons de vérifier l'égalité des deux fonctions :"
   ]
  },
  {
   "cell_type": "code",
   "execution_count": null,
   "metadata": {
    "nbgrader": {
     "grade": true,
     "grade_id": "cell-7c0e08253af31468",
     "locked": true,
     "points": 2,
     "schema_version": 1,
     "solution": false
    }
   },
   "outputs": [],
   "source": [
    "assert logique1(False,False)==logique2(False,False)\n",
    "assert logique1(False,True)==logique2(False,True)\n",
    "assert logique1(True,False)==logique2(True,False)\n",
    "assert logique1(True,True)==logique2(True,True)"
   ]
  },
  {
   "cell_type": "markdown",
   "metadata": {
    "nbgrader": {
     "grade": false,
     "grade_id": "cell-3c90295f59ccd79b",
     "locked": true,
     "schema_version": 1,
     "solution": false
    }
   },
   "source": [
    "Remarque : le théorème de de Morgan n'est pas à connaitre."
   ]
  }
 ],
 "metadata": {
  "celltoolbar": "Create Assignment",
  "kernelspec": {
   "display_name": "Python 3",
   "language": "python",
   "name": "python3"
  },
  "language_info": {
   "codemirror_mode": {
    "name": "ipython",
    "version": 3
   },
   "file_extension": ".py",
   "mimetype": "text/x-python",
   "name": "python",
   "nbconvert_exporter": "python",
   "pygments_lexer": "ipython3",
   "version": "3.7.0"
  }
 },
 "nbformat": 4,
 "nbformat_minor": 2
}
