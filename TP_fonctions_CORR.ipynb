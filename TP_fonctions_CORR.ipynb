{
 "cells": [
  {
   "cell_type": "markdown",
   "metadata": {},
   "source": [
    "## TP Fonctions Python"
   ]
  },
  {
   "cell_type": "markdown",
   "metadata": {},
   "source": [
    "## Exercice 1"
   ]
  },
  {
   "cell_type": "code",
   "execution_count": null,
   "metadata": {},
   "outputs": [],
   "source": [
    "ord('a')"
   ]
  },
  {
   "cell_type": "code",
   "execution_count": null,
   "metadata": {},
   "outputs": [],
   "source": [
    "ord('A')"
   ]
  },
  {
   "cell_type": "code",
   "execution_count": null,
   "metadata": {},
   "outputs": [],
   "source": [
    "chr(90)"
   ]
  },
  {
   "cell_type": "code",
   "execution_count": null,
   "metadata": {},
   "outputs": [],
   "source": [
    "chr(122)"
   ]
  },
  {
   "cell_type": "code",
   "execution_count": null,
   "metadata": {},
   "outputs": [],
   "source": [
    "alphabet=''\n",
    "for i in range(65,91):\n",
    "    alphabet = alphabet + chr(i)\n",
    "print(alphabet)"
   ]
  },
  {
   "cell_type": "code",
   "execution_count": null,
   "metadata": {},
   "outputs": [],
   "source": [
    "def creer_alphabet(debut):\n",
    "    alphabet=''\n",
    "    for i in range(debut,debut+26):\n",
    "        alphabet += chr(i)\n",
    "    return alphabet\n",
    "\n",
    "chaine = creer_alphabet(97)\n",
    "print(chaine)"
   ]
  },
  {
   "cell_type": "markdown",
   "metadata": {},
   "source": [
    "## Exercice 2"
   ]
  },
  {
   "cell_type": "code",
   "execution_count": null,
   "metadata": {},
   "outputs": [],
   "source": [
    "def compte_occurence(caractere,mot):\n",
    "    '''la fonction prend en argument deux string : caractere et mot\n",
    "    et renvoie un integer l occurence de caractere dans mot'''\n",
    "    nb_occur = 0\n",
    "    for lettre in mot:\n",
    "        if lettre == caractere :\n",
    "            nb_occur += 1\n",
    "    return nb_occur       "
   ]
  },
  {
   "cell_type": "code",
   "execution_count": null,
   "metadata": {},
   "outputs": [],
   "source": [
    "help(compte_occurence)"
   ]
  },
  {
   "cell_type": "code",
   "execution_count": null,
   "metadata": {},
   "outputs": [],
   "source": [
    "compte_occurence('e','numérique')"
   ]
  },
  {
   "cell_type": "code",
   "execution_count": null,
   "metadata": {},
   "outputs": [],
   "source": [
    "compte_occurence('i','mississipi')"
   ]
  },
  {
   "cell_type": "code",
   "execution_count": null,
   "metadata": {},
   "outputs": [],
   "source": [
    "compte_occurence('y','nsi')"
   ]
  },
  {
   "cell_type": "code",
   "execution_count": null,
   "metadata": {},
   "outputs": [],
   "source": [
    "assert compte_occurence('y','nsi')==0 \n",
    "assert compte_occurence('e','numérique')==1\n",
    "assert compte_occurence('i','mississipi')==4"
   ]
  },
  {
   "cell_type": "markdown",
   "metadata": {},
   "source": [
    "## Exercice 3\n",
    "Ecrire une fonction majuscule qui transforme une chaine écrite en minuscule sans accent en une chaine en majuscule"
   ]
  },
  {
   "cell_type": "code",
   "execution_count": null,
   "metadata": {},
   "outputs": [],
   "source": [
    "def majuscule(chaine1):\n",
    "    chaine2 = \"\"\n",
    "    for lettre in chaine1:\n",
    "        code_lettre_maj = ord(lettre) - 32\n",
    "        lettre_maj = chr(code_lettre_maj)\n",
    "        chaine2 += lettre_maj\n",
    "    return chaine2"
   ]
  },
  {
   "cell_type": "code",
   "execution_count": null,
   "metadata": {},
   "outputs": [],
   "source": [
    "assert majuscule('nsi')=='NSI'\n",
    "assert majuscule('informatique')=='INFORMATIQUE'"
   ]
  },
  {
   "cell_type": "code",
   "execution_count": null,
   "metadata": {},
   "outputs": [],
   "source": [
    "# Tester avec d'autres chaines\n",
    "majuscule(\"premiere\")"
   ]
  },
  {
   "cell_type": "markdown",
   "metadata": {},
   "source": [
    "## Exercice 4\n",
    "Ecrire une fonction `miroir`qui prend en argument une chaine de caractères sans accent en minuscule et qui renvoie une nouvelle chaine où chaque caractères prend le rang de la lettre dans l'alphabet inversé"
   ]
  },
  {
   "cell_type": "code",
   "execution_count": null,
   "metadata": {},
   "outputs": [],
   "source": [
    "def miroir(chaine1):\n",
    "    chaine2 = \"\"\n",
    "    for lettre in chaine1:\n",
    "        code_lettre = ord('z') - (ord(lettre)-ord('a'))\n",
    "        chaine2 += chr(code_lettre)    \n",
    "    return chaine2"
   ]
  },
  {
   "cell_type": "code",
   "execution_count": null,
   "metadata": {},
   "outputs": [],
   "source": [
    "assert miroir('abcd')=='zyxw'"
   ]
  },
  {
   "cell_type": "code",
   "execution_count": null,
   "metadata": {},
   "outputs": [],
   "source": [
    "# Tester en dessous avec d'autres chaines\n",
    "miroir('informatique')"
   ]
  },
  {
   "cell_type": "code",
   "execution_count": null,
   "metadata": {},
   "outputs": [],
   "source": []
  },
  {
   "cell_type": "code",
   "execution_count": null,
   "metadata": {},
   "outputs": [],
   "source": []
  }
 ],
 "metadata": {
  "kernelspec": {
   "display_name": "Python 3",
   "language": "python",
   "name": "python3"
  },
  "language_info": {
   "codemirror_mode": {
    "name": "ipython",
    "version": 3
   },
   "file_extension": ".py",
   "mimetype": "text/x-python",
   "name": "python",
   "nbconvert_exporter": "python",
   "pygments_lexer": "ipython3",
   "version": "3.7.0"
  }
 },
 "nbformat": 4,
 "nbformat_minor": 2
}
