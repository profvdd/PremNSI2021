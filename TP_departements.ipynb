{
 "cells": [
  {
   "cell_type": "markdown",
   "metadata": {},
   "source": [
    "# TP Départements\n",
    "\n",
    "## Traitements de données en tables\n",
    "\n",
    "Dans ce TP nous allons traiter un fichier de données structurées au format `CSV` à l'aide de la bibliothèque Python `csv` déjà utilisée dans le TP sur les prénoms.\n",
    "\n",
    "Le fichier utilisé, <a href=\"departement_francais.csv\"><b>departement_francais.csv</b></a> est issu du site  https://www.data.gouv.fr .  \n",
    "Il contient la liste des départements français avec comme ligne d'entête les champs suivants :\n",
    "<ul>\n",
    "    <li>\n",
    "        <b>Numéro</b> : Numéro du département\n",
    "    </li>\n",
    "    <li>\n",
    "        <b>Département</b> : nom du département\n",
    "    </li>\n",
    "    <li>\n",
    "        <b>Superficie</b> : en km²\n",
    "    </li>\n",
    "    <li>\n",
    "        <b>Population</b>\n",
    "    </li>\n",
    "</ul>"
   ]
  },
  {
   "cell_type": "markdown",
   "metadata": {},
   "source": [
    "## 1. Lecture du fichier `departement_francais.csv`  \n",
    "\n",
    "Uploader dans Jupyter le fichier csv puis éxécuter le code ci-dessous pour afficher la liste des départements :"
   ]
  },
  {
   "cell_type": "code",
   "execution_count": null,
   "metadata": {},
   "outputs": [],
   "source": [
    "import csv\n",
    "FICHIER_DEPARTEMENTS = \"departement_francais.csv\"\n",
    "\n",
    "def lit_fichier_csv(nom_fichier):\n",
    "    f = open(nom_fichier,encoding=\"utf-8\")\n",
    "    reader = csv.reader(f)\n",
    "    #reader = csv.DictReader(f)\n",
    "    donnees = [row for row in reader]\n",
    "    return donnees[1:]\n",
    "\n",
    "donnees = lit_fichier_csv(FICHIER_DEPARTEMENTS)\n",
    "for d in donnees:\n",
    "    print(d)"
   ]
  },
  {
   "cell_type": "markdown",
   "metadata": {},
   "source": [
    "### Remarques :\n",
    "La fonction `lit_fichier_csv(nom_fichier)` lit le fichier `nom_fichier` qui est passé en paramètre et renvoie une liste de listes contenant chaque ligne du fichier sauf la ligne d'entête.\n"
   ]
  },
  {
   "cell_type": "markdown",
   "metadata": {},
   "source": [
    "## Exercice 1\n",
    "- Compléter la documentation (*docstring*) de la fonction `nom_departement(numero)` qui doit renvoyer le nom du département correspondant au `numero` passé en paramètre si le numéro de département est bien présent dans le fichier ou bien \"Numéro de département inconnu\" sinon.  \n",
    "- Ajouter un ou deux tests unitaires `assert`  \n",
    "**Attention au type de données** du numéro de département renvoyé par la fonction `lit_fichier_csv(nom_fichier)`  "
   ]
  },
  {
   "cell_type": "code",
   "execution_count": null,
   "metadata": {},
   "outputs": [],
   "source": [
    "def nom_departement(numero):\n",
    "    '''docstring à compléter'''\n",
    "    donnees = lit_fichier_csv(FICHIER_DEPARTEMENTS)\n",
    "    for d in donnees:\n",
    "        if d[0] == str(numero):\n",
    "            return d[1]\n",
    "    return \"Numéro de département inconnu\"\n",
    "\n",
    "\n",
    "# Ajouter ici les tests unitaires\n",
    "\n"
   ]
  },
  {
   "cell_type": "code",
   "execution_count": null,
   "metadata": {},
   "outputs": [],
   "source": [
    "print(nom_departement(84))"
   ]
  },
  {
   "cell_type": "markdown",
   "metadata": {},
   "source": [
    "## Exercice 2"
   ]
  },
  {
   "cell_type": "markdown",
   "metadata": {},
   "source": [
    "- En vous aidant du code précédent, compléter la fonction `numero_departement(nom)` qui doit retourner le numéro du département correspondant au `nom` du département passé en paramètre si le nom de département est bien présent dans le fichier ou bien \"Nom de département inconnu\" sinon.  \n",
    "- Compléter également la documentation et ajouter un ou deux tests `assert`"
   ]
  },
  {
   "cell_type": "code",
   "execution_count": null,
   "metadata": {},
   "outputs": [],
   "source": [
    "def numero_departement(nom):\n",
    "    '''docstring à compléter'''\n",
    "    donnees = lit_fichier_csv(FICHIER_DEPARTEMENTS)\n",
    "    # votre code ici\n",
    "    \n",
    "    return ..."
   ]
  },
  {
   "cell_type": "code",
   "execution_count": null,
   "metadata": {},
   "outputs": [],
   "source": [
    "# Vos tests unitaires ici"
   ]
  },
  {
   "cell_type": "markdown",
   "metadata": {},
   "source": [
    "## Exercice 3"
   ]
  },
  {
   "cell_type": "markdown",
   "metadata": {},
   "source": [
    "- En vous aidant du code de l'**Exercice 1**, compléter la fonction `superficie_et_population_departement(numero)` qui doit renvoyer la superficie et la population département correspondant au `numero` du département passé en paramètre si le numéro du département est bien présent dans le fichier ou bien \"Numéro de département inconnu\" sinon.  \n",
    "- Compléter également la documentation et ajouter un ou deux tests `assert`"
   ]
  },
  {
   "cell_type": "code",
   "execution_count": null,
   "metadata": {},
   "outputs": [],
   "source": [
    "def superficie_et_population_departement(numero):\n",
    "    '''docstring à compléter'''\n",
    "    donnees = lit_fichier_csv(FICHIER_DEPARTEMENTS)\n",
    "    # votre code ici\n",
    "    \n",
    "    return ..."
   ]
  },
  {
   "cell_type": "code",
   "execution_count": null,
   "metadata": {},
   "outputs": [],
   "source": [
    "# Vos tests unitaires ici"
   ]
  },
  {
   "cell_type": "markdown",
   "metadata": {},
   "source": [
    "## Exercice 4"
   ]
  },
  {
   "cell_type": "markdown",
   "metadata": {},
   "source": [
    "- Compléter la fonction `intervalle_population(mini,maxi)` qui doit retourner la liste des noms des départements dont la population est comprise dans l'intervalle [min,maxi].  \n",
    "- Compléter également la documentation et ajouter un ou deux tests `assert`"
   ]
  },
  {
   "cell_type": "code",
   "execution_count": null,
   "metadata": {},
   "outputs": [],
   "source": [
    "def intervalle_population(mini,maxi):\n",
    "    '''docstring ici'''\n",
    "    donnees = lit_fichier_csv(FICHIER_DEPARTEMENTS)\n",
    "    # votre code ici\n",
    "    \n",
    "    return ..."
   ]
  },
  {
   "cell_type": "code",
   "execution_count": null,
   "metadata": {},
   "outputs": [],
   "source": [
    "# Vos tests unitaires ici"
   ]
  },
  {
   "cell_type": "markdown",
   "metadata": {},
   "source": [
    "## Exercice 5"
   ]
  },
  {
   "cell_type": "markdown",
   "metadata": {},
   "source": [
    "- Compléter la fonction `top_population(nb)` qui doit renvoyer la liste des <code>nb</code> départements les plus peuplés.  \n",
    "- On retournera une **liste de dictionnaires** dont la **clef** sera le nom du département et la **valeur** le nombre d'habitants du département."
   ]
  },
  {
   "cell_type": "code",
   "execution_count": null,
   "metadata": {},
   "outputs": [],
   "source": [
    "def top_population(nb):\n",
    "    '''docstring ici'''\n",
    "    donnees = lit_fichier_csv(FICHIER_DEPARTEMENTS)\n",
    "    # votre code ici\n",
    "    \n",
    "    return ..."
   ]
  },
  {
   "cell_type": "code",
   "execution_count": null,
   "metadata": {},
   "outputs": [],
   "source": [
    "# Vos tests unitaires ici"
   ]
  },
  {
   "cell_type": "markdown",
   "metadata": {},
   "source": [
    "<p>Utiliser les fonctions précédentes pour déterminer le département le plus densemment peuplé et le département le moins densemment peuplé.</p>"
   ]
  },
  {
   "cell_type": "markdown",
   "metadata": {},
   "source": [
    "## Exercice 6\n",
    "Déterminer enfin la superficie totale du territoire français (métropole uniquement) en écrivant le corps de la fonction `superficie_territoire_francais()`. Vous effectuerez pour cela la somme des superficies de chaque département."
   ]
  },
  {
   "cell_type": "code",
   "execution_count": null,
   "metadata": {},
   "outputs": [],
   "source": [
    "def superficie_territoire_francais():\n",
    "    '''docstring ici'''\n",
    "    donnees = lit_fichier_csv(FICHIER_DEPARTEMENTS)\n",
    "    # votre code ici\n",
    "    \n",
    "    return ..."
   ]
  },
  {
   "cell_type": "code",
   "execution_count": null,
   "metadata": {},
   "outputs": [],
   "source": [
    "superficie_territoire_francais()"
   ]
  },
  {
   "cell_type": "markdown",
   "metadata": {},
   "source": [
    "Comparer le résultat de votre programme avec celui donné officiellement.  \n",
    "Comment expliquer la différence ?"
   ]
  }
 ],
 "metadata": {
  "kernelspec": {
   "display_name": "Python 3",
   "language": "python",
   "name": "python3"
  },
  "language_info": {
   "codemirror_mode": {
    "name": "ipython",
    "version": 3
   },
   "file_extension": ".py",
   "mimetype": "text/x-python",
   "name": "python",
   "nbconvert_exporter": "python",
   "pygments_lexer": "ipython3",
   "version": "3.7.0"
  }
 },
 "nbformat": 4,
 "nbformat_minor": 4
}
