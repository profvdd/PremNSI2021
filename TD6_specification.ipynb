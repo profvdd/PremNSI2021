{
 "cells": [
  {
   "cell_type": "markdown",
   "metadata": {},
   "source": [
    "# TD6 Spécification et mise au point d'un programme\n",
    "### Thème *Langages et programmation*\n",
    "\n",
    "\n",
    "Ce TD doit vous apporter des éléments de bonne pratique à la rédaction de vos programmes.  \n",
    "Il complète les premières notions de spécification et de tests unitaires vus lors des séances précédentes.\n",
    "\n",
    "La question fondamentale qui se pose quand on écrit du code est : __Quel niveau de confiance doit-on donner au programme ?__\n",
    "\n",
    "Cette question est très importante. En effet quand un programme est chargé de calculer un résultat, par exemple la modélisation de la trajectoire d'une fusée, le programme indique comment calculer cette trajectoire mais il ne dit pas ce qu'il calcule et il n'apporte pas non plus de garantie sur le résultat obtenu.\n",
    "\n",
    "Un programmeur ne peut pas se contenter d'écrire uniquement du code. Il doit également :\n",
    "- expliquer ce que fait son programme,\n",
    "- préciser les données et leurs types à envoyer à son programme,\n",
    "- et s'assurer que son programme se comporte correctement.\n",
    "\n",
    "_Compléments : vous trouverez en suivant le lien quelques exemples de conséquences dramatiques de codes mal écrits :_\n",
    "[29 bugs informatiques](https://www.rocketprojet.com/29-bugs-informatiques-catastrophe/)\n"
   ]
  },
  {
   "cell_type": "markdown",
   "metadata": {},
   "source": [
    "## 1- Un premier exemple\n",
    "Si on prend la fonction suivante très proche d'une autre fonction déjà vue en séance d'algo, on comprend les différentes lignes de code mais il faut aller plus loin dans la lecture pour comprendre ce qu'elle calcule :"
   ]
  },
  {
   "cell_type": "code",
   "execution_count": null,
   "metadata": {},
   "outputs": [],
   "source": [
    "def mafonction(t):\n",
    "    m = 0\n",
    "    for i in range(len(t)):\n",
    "        if t[i] < t[m]:\n",
    "            m = i\n",
    "    return m"
   ]
  },
  {
   "cell_type": "markdown",
   "metadata": {},
   "source": [
    "**Question :** Préciser ce que renvoie plus précisement cette fonction"
   ]
  },
  {
   "cell_type": "markdown",
   "metadata": {},
   "source": [
    "**Votre réponse ici :** "
   ]
  },
  {
   "cell_type": "markdown",
   "metadata": {},
   "source": [
    "On peut également s'interroger sur l'efficacité d'une telle fonction et sur les conséquences générées dans un programme suite à son appel.   \n",
    "**Tester par exemple les cas suivants :** "
   ]
  },
  {
   "cell_type": "code",
   "execution_count": null,
   "metadata": {},
   "outputs": [],
   "source": [
    "mafonction(10)"
   ]
  },
  {
   "cell_type": "code",
   "execution_count": null,
   "metadata": {},
   "outputs": [],
   "source": [
    "liste = []\n",
    "reponse = mafonction(liste)\n",
    "print(\"indice trouvé : \",reponse)"
   ]
  },
  {
   "cell_type": "code",
   "execution_count": null,
   "metadata": {},
   "outputs": [],
   "source": [
    "liste = []\n",
    "reponse = mafonction(liste)\n",
    "print(\"valeur de l'élément\",liste[reponse])"
   ]
  },
  {
   "cell_type": "markdown",
   "metadata": {},
   "source": [
    "## 2- Documenter son code - le docstring\n",
    "\n",
    "Pour améliorer la compréhension d'un code, on pense dans un premier temps aux commentaires à insérer directement dans le code pour expliciter une ligne ou un bloc.   \n",
    "En Python vous savez déjà que cela se fait en précédant votre commentaire du caractère `#`\n",
    "\n",
    "On peut également rendre les noms de fonctions et de variables plus explicites.\n",
    "\n",
    "Voici par exemple une version améliorée de la fonction précédente :"
   ]
  },
  {
   "cell_type": "code",
   "execution_count": null,
   "metadata": {},
   "outputs": [],
   "source": [
    "#  renvoie l'indice du minimum d'une liste\n",
    "def indice_min(liste):\n",
    "    indice = 0\n",
    "    for rang in range(len(liste)):\n",
    "        if liste[rang] < liste[indice]:\n",
    "            indice = rang\n",
    "    return indice"
   ]
  },
  {
   "cell_type": "code",
   "execution_count": null,
   "metadata": {},
   "outputs": [],
   "source": [
    "indice_min([3,56,2,34,1,6])"
   ]
  },
  {
   "cell_type": "markdown",
   "metadata": {},
   "source": [
    "Cependant ces informations ne sont disponibles qu'à un programmeur ayant accès au code et donc elles seront invisibles dans un script si la fonction est insérée dans une bibliothèque.   \n",
    "Python permet d'associer une documentation à toute fonction sous la forme de **docstrings** (chaine de caractères écrite entre **3 guillements**) à placer juste après la définition de la fonction.   \n",
    "Le **docstring** permet de **prototyper** la fonction et peut être affiché dans un script Python grace à la fonction `help()`   \n",
    "Ainsi :"
   ]
  },
  {
   "cell_type": "code",
   "execution_count": null,
   "metadata": {},
   "outputs": [],
   "source": [
    "def indice_min(liste):\n",
    "    \"\"\" La fonction renvoie l'indice de la valeur minimale d'une liste.\n",
    "    liste :  une liste non vide de nombres ou chaine de caractères \n",
    "    indice : un integer donnant le rang  du minimum de la liste \"\"\"\n",
    "    indice = 0\n",
    "    for rang in range(len(liste)):\n",
    "        if liste[rang] < liste[indice]:\n",
    "            indice = rang\n",
    "    return indice"
   ]
  },
  {
   "cell_type": "code",
   "execution_count": null,
   "metadata": {},
   "outputs": [],
   "source": [
    "help(indice_min)"
   ]
  },
  {
   "cell_type": "markdown",
   "metadata": {},
   "source": [
    "## 3- Préconditions et postconditions\n",
    "\n",
    "On vient de voir qu'un **docstring** est utilisé pour documenter une fonction, il doit :\n",
    "+ résumer l'objectif de la fonction\n",
    "+ préciser le ou les paramètres d'entrée et spécifier le type de chacun d'eux ( **précondition** )\n",
    "+ documenter la ou les valeurs renvoyées avec chaque type ( **postcondition** )   \n",
    "\n",
    "Cependant il ne s'agit toujours que de commentaires. Rien n'empêche l'utilisateur de la fonction de continuer à appliquer, par accident à la fonction, une liste vide pouvant provoquer ainsi une erreur.   \n",
    "\n",
    "Si on veut éviter qu'une telle erreur ne se produise pas, on pourra adopter une **programmation défensive** en vérifiant les **préconditions**.  \n",
    "\n",
    "### 3-1 Vérification de préconditions sur les arguments\n",
    "\n",
    "Dans le cas de notre fonction `indice_min`, on peut envisager plusieurs méthodes afin d'interrompre le programme dès que l'**argument** (c'est à dire la valeur attribuée au **paramètre**) envoyé à la fonction n'est pas conforme.\n",
    "+ Avec une structure conditionnelle `if`   \n",
    "\n",
    "ou \n",
    "+ Avec une instruction `assert` \n",
    "\n"
   ]
  },
  {
   "cell_type": "markdown",
   "metadata": {},
   "source": [
    "$\\fbox{Avec l'instruction if}$   \n",
    "Modifier le code de la fonction `indice_min` qui prévoit renvoyer `None` si l'argument est une liste vide"
   ]
  },
  {
   "cell_type": "code",
   "execution_count": null,
   "metadata": {},
   "outputs": [],
   "source": [
    "def indice_min(liste):\n",
    "    \"\"\" La fonction renvoie l'indice de la valeur minimale d'une liste\n",
    "    ou None si elle est vide.\n",
    "    liste :  une liste non vide de nombres ou chaine de caractères \n",
    "    indice : un integer donnant le rang  du minimum de la liste \"\"\"\n",
    "    indice = 0\n",
    "    if ??? :\n",
    "        return ??? \n",
    "    else :\n",
    "        ???\n",
    "        ???\n",
    "        ???\n",
    "        return ???\n",
    "\n",
    "print(indice_min([12,7,17,6,54,10]))\n",
    "print(indice_min([]))"
   ]
  },
  {
   "cell_type": "markdown",
   "metadata": {},
   "source": [
    "$\\fbox{Avec l'instruction assert}$   \n",
    "Une autre solution est donc d'utiliser une assertion **dans** le code de la fonction pour combiner test de précondition et interruption du programme.  \n",
    "**Tester cette solution en effectuant plusieurs appels de la fonction :**"
   ]
  },
  {
   "cell_type": "code",
   "execution_count": null,
   "metadata": {},
   "outputs": [],
   "source": [
    "def indice_min(liste):\n",
    "    \"\"\" La fonction renvoie l'indice de la valeur minimale d'une liste.\n",
    "    liste :  une liste non vide de nombres ou chaine de caractères \n",
    "    indice : un integer donnant le rang  du minimum de la liste \"\"\"\n",
    "    indice = 0\n",
    "    assert type(liste) == list or type(liste) == str, \"L'argument envoyé doit être une liste ou une chaine de caractères\"\n",
    "    assert len(liste) != 0, \"La liste est vide\"\n",
    "    for rang in range(len(liste)):\n",
    "        if liste[rang] < liste[indice]:\n",
    "            indice = rang\n",
    "    return indice"
   ]
  },
  {
   "cell_type": "code",
   "execution_count": null,
   "metadata": {},
   "outputs": [],
   "source": [
    "print(indice_min([12,7,17,6,54,10]))"
   ]
  },
  {
   "cell_type": "code",
   "execution_count": null,
   "metadata": {},
   "outputs": [],
   "source": [
    "print(indice_min(\"informatique\"))"
   ]
  },
  {
   "cell_type": "code",
   "execution_count": null,
   "metadata": {},
   "outputs": [],
   "source": [
    "print(indice_min([]))"
   ]
  },
  {
   "cell_type": "code",
   "execution_count": null,
   "metadata": {},
   "outputs": [],
   "source": [
    "print(indice_min(12))"
   ]
  },
  {
   "cell_type": "markdown",
   "metadata": {},
   "source": [
    "On remarquera que dans les deux derniers cas, le programme s'arrête à la ligne de l'erreur et affiche le message prévu. \n",
    "On parlera alors de **programmation défensive**"
   ]
  },
  {
   "cell_type": "markdown",
   "metadata": {},
   "source": [
    "### 3-2 Garantir les postconditions par des tests\n",
    "Il s'agit maintenant de détecter les erreurs éventuelles de calcul et vérifier que la fonction produit bien les résultats attendus. On pourra pour cela réaliser une batterie de **tests** sur des cas concrets.   \n",
    "On réalise pour cela des **assertions sur les postconditions à l'extérieur de la fonction.**   \n",
    "Si l'un des tests échoue, il faut alors modifier le programme puis relancer de nouveau **tous** les tests\n",
    "\n",
    "**Exercice :** Ecrire pour la fonction suivante 2 à 3 assertions en tenant compte de sa spécification"
   ]
  },
  {
   "cell_type": "code",
   "execution_count": null,
   "metadata": {},
   "outputs": [],
   "source": [
    "def indice_min(liste):\n",
    "    \"\"\" La fonction renvoie l'indice de la valeur minimale d'une liste\n",
    "    ou None si elle est vide\n",
    "    liste :  une liste de nombres ou chaine de caractères \n",
    "    indice : un integer donnant le rang  du minimum de la liste \"\"\"\n",
    "    indice = 0\n",
    "    assert type(liste) == list or type(liste) == str, \"L'argument envoyé doit être une liste ou une chaine de caractères\"\n",
    "    if len(liste) > 0 :\n",
    "        for rang in range(len(liste)):\n",
    "            if liste[rang] < liste[indice]:\n",
    "                indice = rang\n",
    "        return indice\n",
    "    else :\n",
    "        return None"
   ]
  },
  {
   "cell_type": "code",
   "execution_count": null,
   "metadata": {},
   "outputs": [],
   "source": [
    "assert indice_min([]) == None\n",
    "\n",
    "\n",
    "\n"
   ]
  },
  {
   "cell_type": "markdown",
   "metadata": {},
   "source": [
    "## 4- Exercices \n",
    "\n",
    "### Exercice 1 :\n",
    "1. Prototyper la fonction `pgcd` en décrivant préconditions et postconditions"
   ]
  },
  {
   "cell_type": "code",
   "execution_count": null,
   "metadata": {},
   "outputs": [],
   "source": [
    "def pgcd(a,b):\n",
    "    \"\"\"  \"\"\"\n",
    "    r = a%b\n",
    "    while r != 0:\n",
    "        a = b\n",
    "        b = r\n",
    "        r = a%b\n",
    "    return b   "
   ]
  },
  {
   "cell_type": "markdown",
   "metadata": {},
   "source": [
    "2. Compléter le code pour garantir les préconditions"
   ]
  },
  {
   "cell_type": "markdown",
   "metadata": {},
   "source": [
    "### Exercice 2 :\n",
    "Pour la fonction suivante, lui donner un meilleur nom, un docstring incluant précondition et postcondition et des tests."
   ]
  },
  {
   "cell_type": "code",
   "execution_count": null,
   "metadata": {},
   "outputs": [],
   "source": [
    "def f(t):\n",
    "    s = 0\n",
    "    for i in range(len(t)):\n",
    "        s += t[i]\n",
    "    return s    "
   ]
  },
  {
   "cell_type": "markdown",
   "metadata": {},
   "source": [
    "### Exercice 3 :\n",
    "On prétend que la fonction suivante teste l'appartenance de la valeur `v` à la liste `t`.   \n",
    "Compléter le docstring.   \n",
    "Donner des tests pour cette fonction, et en particulier un test montrant qu'elle est incorrecte."
   ]
  },
  {
   "cell_type": "code",
   "execution_count": null,
   "metadata": {},
   "outputs": [],
   "source": [
    "def appartient(v,t):\n",
    "    \"\"\"La fonction renvoie un booleen indiquant si la valeur v est dans t.\n",
    "    v : ???\n",
    "    t : ???\n",
    "    \"\"\"\n",
    "    i = 0\n",
    "    while i < len(t)-1 and t[i] != v :\n",
    "        i = i + 1\n",
    "    return i < len(t)        "
   ]
  }
 ],
 "metadata": {
  "kernelspec": {
   "display_name": "Python 3",
   "language": "python",
   "name": "python3"
  },
  "language_info": {
   "codemirror_mode": {
    "name": "ipython",
    "version": 3
   },
   "file_extension": ".py",
   "mimetype": "text/x-python",
   "name": "python",
   "nbconvert_exporter": "python",
   "pygments_lexer": "ipython3",
   "version": "3.7.0"
  }
 },
 "nbformat": 4,
 "nbformat_minor": 2
}
