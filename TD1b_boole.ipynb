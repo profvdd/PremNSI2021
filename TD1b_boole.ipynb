{
 "cells": [
  {
   "cell_type": "markdown",
   "metadata": {
    "nbgrader": {
     "grade": false,
     "grade_id": "cell-876f1896cd6dbcfc",
     "locked": true,
     "schema_version": 1,
     "solution": false
    }
   },
   "source": [
    "# TD - Fonctions logiques (suite)\n",
    "### 3. Ecrire une fonction logique à partir de son expression.\n",
    "Considérons la fonction logique décrite par l'expression ci dessous :\n",
    "$$S = (\\overline{A} + B) \\times C $$\n",
    "\n",
    "Ecrire une fonction `logique1(A,B,C)` qui renvoie le résultat de cette expression."
   ]
  },
  {
   "cell_type": "code",
   "execution_count": null,
   "metadata": {
    "nbgrader": {
     "grade": false,
     "grade_id": "cell-137d01c21c7c4f91",
     "locked": false,
     "schema_version": 1,
     "solution": true
    }
   },
   "outputs": [],
   "source": [
    "def logique1(A,B,C) :\n",
    "    ### votre code ici\n",
    "    s=\n",
    "    return s"
   ]
  },
  {
   "cell_type": "markdown",
   "metadata": {
    "nbgrader": {
     "grade": false,
     "grade_id": "cell-bd8fab76b8cf8de1",
     "locked": true,
     "schema_version": 1,
     "solution": false
    }
   },
   "source": [
    "Vérifions maintenant que votre fonction passe bien le jeu de tests :"
   ]
  },
  {
   "cell_type": "code",
   "execution_count": null,
   "metadata": {
    "nbgrader": {
     "grade": true,
     "grade_id": "cell-cc6fd57a98b27ab4",
     "locked": true,
     "points": 2,
     "schema_version": 1,
     "solution": false
    }
   },
   "outputs": [],
   "source": [
    "assert logique1(False,False,False) == False\n",
    "assert logique1(False,True,True) == True\n",
    "assert logique1(False,False,True) == True\n",
    "assert logique1(True,True,False) == False\n",
    "assert logique1(True,True,True)==True\n",
    "assert logique1(True,False,True)==False\n",
    "assert logique1(True,True,False)==False"
   ]
  },
  {
   "cell_type": "markdown",
   "metadata": {
    "nbgrader": {
     "grade": false,
     "grade_id": "cell-b0df621bbdf07c3d",
     "locked": true,
     "schema_version": 1,
     "solution": false
    }
   },
   "source": [
    "### 4. Ecrire une fonction logique à partir de sa table de vérité.\n",
    "Considérons la table de vérité ci dessous :\n",
    "\n",
    "|  A  |  B  |  C  |  S  |\n",
    "|:---:|:---:|:---:|:---:|\n",
    "|0|0|0|1|\n",
    "|0|0|1|0|\n",
    "|0|1|0|1|\n",
    "|0|1|1|0|\n",
    "|1|0|0|1|\n",
    "|1|0|1|0|\n",
    "|1|1|0|1|\n",
    "|1|1|1|1|\n",
    "\n",
    "- Trouver l'expression logique en fonction de A,B,C qui vérifie cette table de vérité"
   ]
  },
  {
   "cell_type": "markdown",
   "metadata": {},
   "source": [
    "S = "
   ]
  },
  {
   "cell_type": "markdown",
   "metadata": {},
   "source": [
    "- Puis écrire une fonction `logique2(A,B,C)` qui renvoie une valeur correspondant à cette expression logique."
   ]
  },
  {
   "cell_type": "code",
   "execution_count": null,
   "metadata": {
    "nbgrader": {
     "grade": false,
     "grade_id": "cell-1cd5540bfe60d066",
     "locked": false,
     "schema_version": 1,
     "solution": true
    }
   },
   "outputs": [],
   "source": [
    "def logique2(A,B,C) :\n",
    "    ### votre code ici\n",
    "    x= \n",
    "    return x"
   ]
  },
  {
   "cell_type": "markdown",
   "metadata": {
    "nbgrader": {
     "grade": false,
     "grade_id": "cell-a26b82ba99a10fb8",
     "locked": true,
     "schema_version": 1,
     "solution": false
    }
   },
   "source": [
    "- Vérifier enfin que votre fonction passe bien la batterie de tests suivante :"
   ]
  },
  {
   "cell_type": "code",
   "execution_count": null,
   "metadata": {
    "nbgrader": {
     "grade": true,
     "grade_id": "cell-2782b2aa2a543221",
     "locked": true,
     "points": 3,
     "schema_version": 1,
     "solution": false
    }
   },
   "outputs": [],
   "source": [
    "assert logique2(False,False,False) == True\n",
    "assert logique2(False,True,True) == False\n",
    "assert logique2(True,True,False) == True\n",
    "assert logique2(True,True,True) == True\n",
    "assert logique2(False,False,True)==False\n",
    "assert logique2(False,True,False)==True\n",
    "assert logique2(True,False,False)==True\n",
    "assert logique2(True,False,True)==False"
   ]
  },
  {
   "cell_type": "markdown",
   "metadata": {
    "nbgrader": {
     "grade": false,
     "grade_id": "cell-6b898b817070b7f7",
     "locked": true,
     "schema_version": 1,
     "solution": false
    }
   },
   "source": [
    "### 5. Ecrire une fonction logique à partir d'un circuit logique\n",
    "Considérons le circuit ci-dessous\n",
    "![20% center](circuit1.PNG)\n",
    "Ecrire une fonction `logique3(A,B,C)` qui renvoie une valeur qui corresponde à ce circuit."
   ]
  },
  {
   "cell_type": "code",
   "execution_count": null,
   "metadata": {
    "nbgrader": {
     "grade": false,
     "grade_id": "cell-d726d50776cc2830",
     "locked": false,
     "schema_version": 1,
     "solution": true
    }
   },
   "outputs": [],
   "source": [
    "def logique3(A,B,C) :\n",
    "    ### votre code ici\n",
    "    x= \n",
    "    return x"
   ]
  },
  {
   "cell_type": "markdown",
   "metadata": {
    "nbgrader": {
     "grade": false,
     "grade_id": "cell-1e00253d9827f9e7",
     "locked": true,
     "schema_version": 1,
     "solution": false
    }
   },
   "source": [
    "Quelques tests qui vont vérifier la conformité de votre fonction."
   ]
  },
  {
   "cell_type": "code",
   "execution_count": null,
   "metadata": {
    "nbgrader": {
     "grade": true,
     "grade_id": "cell-c5a80c7c71ebac29",
     "locked": true,
     "points": 2,
     "schema_version": 1,
     "solution": false
    }
   },
   "outputs": [],
   "source": [
    "assert logique3(False,False,False) == True\n",
    "assert logique3(False,True,True) == True\n",
    "assert logique3(True,False,True) == True\n",
    "assert logique3(True,True,True) == False\n",
    "assert logique3(False,False,True) == True\n",
    "assert logique3(False,True,False) == True\n",
    "assert logique3(True,False,False) == True\n",
    "assert logique3(True,True,False) == True"
   ]
  }
 ],
 "metadata": {
  "celltoolbar": "Create Assignment",
  "kernelspec": {
   "display_name": "Python 3",
   "language": "python",
   "name": "python3"
  },
  "language_info": {
   "codemirror_mode": {
    "name": "ipython",
    "version": 3
   },
   "file_extension": ".py",
   "mimetype": "text/x-python",
   "name": "python",
   "nbconvert_exporter": "python",
   "pygments_lexer": "ipython3",
   "version": "3.7.0"
  }
 },
 "nbformat": 4,
 "nbformat_minor": 2
}
