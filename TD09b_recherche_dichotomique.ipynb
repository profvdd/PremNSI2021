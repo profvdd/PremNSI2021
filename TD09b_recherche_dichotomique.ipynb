{
 "cells": [
  {
   "cell_type": "markdown",
   "metadata": {},
   "source": [
    "# TD9b Recherche dichotomique d'une valeur dans une liste"
   ]
  },
  {
   "cell_type": "markdown",
   "metadata": {},
   "source": [
    "## 1. Principe du _divide and conquer_\n",
    "\n",
    "Les algorithmes de type _diviser pour régner_ s'appuient sur 3 étapes :\n",
    "\n",
    "- On découpe le problème initial en sous-problèmes (__diviser__)\n",
    "- On résoud les sous-problèmes (__régner__)\n",
    "- On revient au problème initial en utilisant les solutions des sous-problèmes\n",
    "\n",
    "La **dichotomie** (__couper en deux__ en grec) peut être considérée comme une variante simplifiée de cette stratégie du __diviser pour régner__."
   ]
  },
  {
   "cell_type": "markdown",
   "metadata": {},
   "source": [
    "## 2. Un jeu pour comprendre le principe de la dichotomie:\n",
    "\n",
    "Il s'agit de trouver un nombre entier $x$ pris au hasard entre 1 et 100 en réalisant un minimum d'essais.\n",
    "\n",
    "Dans un premier temps, exécutez plusieurs fois le programme suivant et tentez de trouver le nombre mystère en 7 coups maximum."
   ]
  },
  {
   "cell_type": "code",
   "execution_count": null,
   "metadata": {},
   "outputs": [],
   "source": [
    "from random import *\n",
    "x = randint(1,100)\n",
    "essai = 0\n",
    "trouve = False\n",
    "while not(trouve) and essai<7 :\n",
    "    coup = int(input('Entrez un entier compris entre 1 et 100 : '))\n",
    "    if coup>x:\n",
    "        print('Votre nombre est trop grand')\n",
    "    elif coup<x:\n",
    "        print('Votre nombre est trop petit')\n",
    "    else :\n",
    "        trouve = coup == x\n",
    "    essai += 1\n",
    "if trouve:\n",
    "    print('Nombre mystère ',x,' trouvé en ',essai,' essais')\n",
    "else:\n",
    "    print('Raté le nombre mystère était :',x)    "
   ]
  },
  {
   "cell_type": "markdown",
   "metadata": {},
   "source": [
    "Réessayez de nouveau en adoptant la stratégie gagnante suivante :\n",
    "- commencez le premier essai avec 50\n",
    "- après chaque réponse : \n",
    "    - supprimer de l'ensemble des possibilités l'intervalle ne contenant $x$\n",
    "    - proposer (jusqu'à la réussite) comme nouvel essai, la valeur approchée entière par défaut du centre de l'intervalle restant.\n",
    "    \n",
    ">Par exemple :  \n",
    "`>Entrez un entier compris entre 1 et 100 : 50`  \n",
    "`Votre nombre est trop grand`  \n",
    "`>Entrez un entier compris entre 1 et 100 : 25`  \n",
    "`Votre nombre est trop petit`  \n",
    "`>Entrez un entier compris entre 1 et 100 : 37`  \n",
    "`Votre nombre est trop petit`  \n",
    "`>Entrez un entier compris entre 1 et 100 : 43`  \n",
    "`Nombre mystère  43  trouvé en  4  essais`"
   ]
  },
  {
   "cell_type": "markdown",
   "metadata": {},
   "source": [
    "Puisque l'on coupe l'intervalle de recherche systématiquement par 2, le nombre maximum d'essai **M** est égal à la valeur du premier exposant entier de 2 supérieur ou égal au nombre $N = 100$ de nombres possibles.\n",
    "\n",
    "On a $2^6 = 64$ insuffisant et $2^7 = 128$  \n",
    "donc dans le jeu on trouvera le nombre mystère en 7 essais maximum.\n",
    "\n",
    "Ou encore $log_2(100) \\approx 6,64$\n",
    "\n"
   ]
  },
  {
   "cell_type": "markdown",
   "metadata": {},
   "source": [
    "## 3. Recherche dichotomique d'une valeur dans une liste triée\n",
    "\n",
    "Lors du TP précédent on a vu que l'**algorithme de recherche séquentielle d'une valeur dans une liste** est un algorithme de complexité linéaire soit en **O(*n*)**\n",
    "\n",
    "Dans le cas où la **liste est triée**, l'**algorithme de recherche dichotomique d'une valeur** s'avère en moyenne beaucoup plus rapide."
   ]
  },
  {
   "cell_type": "markdown",
   "metadata": {},
   "source": [
    "#### Principe de la recherche dichotomique d'une valeur avec une liste triée dans l'ordre croissant\n",
    "\n",
    "- si la liste est vide : réponse négative, recherche finie\n",
    "- sinon, prendre l'élément le plus central de la liste et comparer cet élément à la valeur cherchée :\n",
    "    - si l'élément est la valeur cherchée : réponse positive, recherche finie\n",
    "    - si l'élément est strictement plus petit que la valeur cherchée, reprendre la procédure avec la seconde moitié de la liste\n",
    "    - sinon reprendre la procédure avec la première moitié de la liste"
   ]
  },
  {
   "cell_type": "markdown",
   "metadata": {},
   "source": [
    "### Exemple : recherche du nombre 4 dans la liste triée ci-dessous\n",
    "![**image**](dicho.png)"
   ]
  },
  {
   "cell_type": "markdown",
   "metadata": {},
   "source": [
    "### 4. Comparaison avec la recherche séquentielle\n",
    "\n",
    "\n",
    "|Taille de la liste|0|1|2|4|8|16|32|64|128|$n$|\n",
    "|:---|:---:|:---:|:---:|:---:|:---:|:---:|:---:|:---:|:---:|:---:|\n",
    "|Recherche séquentielle|0|1|2|4|8|16|32|64|128|$n$|\n",
    "|Recherche dichotomique|0|1|2|3|4|5|6|7|8|$log_2(n)+1$|\n",
    "\n",
    "Pour une liste triée de longueur $n$, l'algorithme de recherche dichotomique d'une valeur est d'ordre $O(log_2(n))$ "
   ]
  },
  {
   "cell_type": "markdown",
   "metadata": {},
   "source": [
    "### 4. Implémentation de l'algorithme en Python"
   ]
  },
  {
   "cell_type": "code",
   "execution_count": null,
   "metadata": {},
   "outputs": [],
   "source": [
    "def chercher_dicho(liste,valeur):\n",
    "    \"\"\"Recherche de l'entier valeur dans une liste triée \n",
    "    Renvoie True si valeur est dans la liste, False sinon\n",
    "    liste : liste triée dans l'ordre croissant\n",
    "    valeur : integer\"\"\"\n",
    "    debut = 0\n",
    "    fin = len(liste)-1\n",
    "    m = (debut+fin)//2\n",
    "    while debut <= fin:\n",
    "        if liste[m] == valeur:\n",
    "            return True\n",
    "        elif liste[m] < valeur:\n",
    "            debut = m+1\n",
    "        else:\n",
    "            fin = m-1\n",
    "        m = (debut+fin)//2\n",
    "    return False       "
   ]
  },
  {
   "cell_type": "code",
   "execution_count": null,
   "metadata": {},
   "outputs": [],
   "source": [
    "tableau = [1,3,5,7,9,11,13]\n",
    "chercher_dicho(tableau,11)"
   ]
  },
  {
   "cell_type": "markdown",
   "metadata": {},
   "source": [
    "Faire plusieurs essais pour le code suivant :  "
   ]
  },
  {
   "cell_type": "code",
   "execution_count": null,
   "metadata": {},
   "outputs": [],
   "source": [
    "from random import randint\n",
    "tableau = [1]\n",
    "for i in range(1,20):\n",
    "    tableau.append(tableau[i-1]+randint(1,6))\n",
    "print(tableau)\n",
    "n=randint(1,100)\n",
    "print(n)\n",
    "chercher_dicho(tableau,n)"
   ]
  }
 ],
 "metadata": {
  "kernelspec": {
   "display_name": "Python 3",
   "language": "python",
   "name": "python3"
  },
  "language_info": {
   "codemirror_mode": {
    "name": "ipython",
    "version": 3
   },
   "file_extension": ".py",
   "mimetype": "text/x-python",
   "name": "python",
   "nbconvert_exporter": "python",
   "pygments_lexer": "ipython3",
   "version": "3.7.3"
  }
 },
 "nbformat": 4,
 "nbformat_minor": 2
}
